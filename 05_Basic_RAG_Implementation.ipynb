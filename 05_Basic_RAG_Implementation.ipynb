{
 "cells": [
  {
   "cell_type": "code",
   "execution_count": 1,
   "id": "cc4427ed",
   "metadata": {},
   "outputs": [],
   "source": [
    "import os\n",
    "from dotenv import load_dotenv, find_dotenv\n",
    "_ = load_dotenv(find_dotenv())\n",
    "openai_api_key = os.environ[\"OPENAI_API_KEY\"]"
   ]
  },
  {
   "cell_type": "code",
   "execution_count": 1,
   "id": "3a3c595f",
   "metadata": {},
   "outputs": [],
   "source": [
    "from langchain_community.vectorstores import FAISS\n",
    "from langchain_openai import OpenAIEmbeddings\n",
    "from langchain_text_splitters import CharacterTextSplitter\n",
    "from langchain_community.document_loaders import TextLoader"
   ]
  },
  {
   "cell_type": "code",
   "execution_count": 2,
   "id": "4b77fe04",
   "metadata": {},
   "outputs": [],
   "source": [
    "loader = TextLoader(\"./Data/dswithbappy_data.txt\")\n",
    "loaded_document = loader.load()"
   ]
  },
  {
   "cell_type": "code",
   "execution_count": 3,
   "id": "662c4286",
   "metadata": {},
   "outputs": [
    {
     "data": {
      "text/plain": [
       "[Document(metadata={'source': './Data/dswithbappy_data.txt'}, page_content='dswithbappy focuses on providing content on Data Science, Artificial Intelligence, Machine Learning, \\nDeep Learning, Computer Vision, Natural language processing, Python programming, etc. in English. \\n\"Real creativity won\\'t make things more complex. Instead, I will simplify them.\" \\nI have been working in the Data Science field, spearheading in machine learning, \\ndeep learning, and computer vision. Typically this is my YouTube channel where I clarify \\ndifferent themes on machine learning, deep learning, and AI with numerous real-world issue scenarios. \\nMy primary point is to create everybody commonplace of ML and AI. Please subscribe and support the channel. \\nAs I come up with new innovations. These recordings are free and I guarantee to create more curiously substance as we go ahead.\\n😀Please donate if you want to support the channel through Buy me a coffee: https://www.buymeacoffee.com/dswithbappy\\n\\nPlease feel free to drop a mail for any Item unboxing and any other collaboration.')]"
      ]
     },
     "execution_count": 3,
     "metadata": {},
     "output_type": "execute_result"
    }
   ],
   "source": [
    "loaded_document"
   ]
  },
  {
   "cell_type": "code",
   "execution_count": 4,
   "id": "e2d9d829",
   "metadata": {},
   "outputs": [],
   "source": [
    "text_splitter = CharacterTextSplitter(chunk_size=1000, chunk_overlap=0)\n",
    "chunks_of_text = text_splitter.split_documents(loaded_document)"
   ]
  },
  {
   "cell_type": "code",
   "execution_count": 5,
   "id": "b871e0ad",
   "metadata": {},
   "outputs": [
    {
     "data": {
      "text/plain": [
       "1"
      ]
     },
     "execution_count": 5,
     "metadata": {},
     "output_type": "execute_result"
    }
   ],
   "source": [
    "len(chunks_of_text)"
   ]
  },
  {
   "cell_type": "code",
   "execution_count": 6,
   "id": "aa06f413",
   "metadata": {},
   "outputs": [],
   "source": [
    "embeddings = OpenAIEmbeddings()\n",
    "\n",
    "vector_db = FAISS.from_documents(chunks_of_text, embeddings)"
   ]
  },
  {
   "cell_type": "code",
   "execution_count": 7,
   "id": "81a31643",
   "metadata": {},
   "outputs": [],
   "source": [
    "retriever = vector_db.as_retriever()"
   ]
  },
  {
   "cell_type": "code",
   "execution_count": 8,
   "id": "7b8a7dde",
   "metadata": {},
   "outputs": [],
   "source": [
    "response = retriever.invoke(\"what is dswithbappy?\")"
   ]
  },
  {
   "cell_type": "code",
   "execution_count": 9,
   "id": "18e382c6",
   "metadata": {},
   "outputs": [
    {
     "data": {
      "text/plain": [
       "[Document(id='1ad2b2ad-3ab7-4aa4-8a04-9c775ce5e51c', metadata={'source': './Data/dswithbappy_data.txt'}, page_content='dswithbappy focuses on providing content on Data Science, Artificial Intelligence, Machine Learning, \\nDeep Learning, Computer Vision, Natural language processing, Python programming, etc. in English. \\n\"Real creativity won\\'t make things more complex. Instead, I will simplify them.\" \\nI have been working in the Data Science field, spearheading in machine learning, \\ndeep learning, and computer vision. Typically this is my YouTube channel where I clarify \\ndifferent themes on machine learning, deep learning, and AI with numerous real-world issue scenarios. \\nMy primary point is to create everybody commonplace of ML and AI. Please subscribe and support the channel. \\nAs I come up with new innovations. These recordings are free and I guarantee to create more curiously substance as we go ahead.\\n😀Please donate if you want to support the channel through Buy me a coffee: https://www.buymeacoffee.com/dswithbappy\\n\\nPlease feel free to drop a mail for any Item unboxing and any other collaboration.')]"
      ]
     },
     "execution_count": 9,
     "metadata": {},
     "output_type": "execute_result"
    }
   ],
   "source": [
    "response"
   ]
  },
  {
   "cell_type": "markdown",
   "id": "d905048c",
   "metadata": {},
   "source": [
    "## Simple use with LCEL"
   ]
  },
  {
   "cell_type": "code",
   "execution_count": 10,
   "id": "af94645f",
   "metadata": {},
   "outputs": [],
   "source": [
    "from langchain_openai import ChatOpenAI\n",
    "from langchain_core.prompts import ChatPromptTemplate\n",
    "from langchain_core.output_parsers import StrOutputParser\n",
    "from langchain_core.runnables import RunnablePassthrough"
   ]
  },
  {
   "cell_type": "code",
   "execution_count": 11,
   "id": "e4a705ed",
   "metadata": {},
   "outputs": [],
   "source": [
    "template = \"\"\"Answer the question based only on the following context:\n",
    "\n",
    "{context}\n",
    "\n",
    "Question: {question}\n",
    "\"\"\"\n",
    "\n",
    "prompt = ChatPromptTemplate.from_template(template)\n",
    "\n",
    "model = ChatOpenAI()"
   ]
  },
  {
   "cell_type": "code",
   "execution_count": 12,
   "id": "cf48cc40",
   "metadata": {},
   "outputs": [],
   "source": [
    "def format_docs(docs):\n",
    "    return \"\\n\\n\".join([d.page_content for d in docs])\n",
    "\n",
    "\n",
    "chain = (\n",
    "    {\"context\": retriever | format_docs, \"question\": RunnablePassthrough()}\n",
    "    | prompt\n",
    "    | model\n",
    "    | StrOutputParser()\n",
    ")\n"
   ]
  },
  {
   "cell_type": "code",
   "execution_count": 13,
   "id": "64a8e24a",
   "metadata": {},
   "outputs": [],
   "source": [
    "response = chain.invoke(\"what is dswithbappy?\")"
   ]
  },
  {
   "cell_type": "code",
   "execution_count": 14,
   "id": "cb579c0b",
   "metadata": {},
   "outputs": [
    {
     "data": {
      "text/plain": [
       "'dswithbappy is a YouTube channel focused on providing content on Data Science, Artificial Intelligence, Machine Learning, Deep Learning, Computer Vision, Natural language processing, Python programming, etc. The creator of the channel works in the Data Science field and aims to simplify complex topics in ML and AI for a wider audience. They also accept donations through Buy me a coffee and are open to collaborations and item unboxing.'"
      ]
     },
     "execution_count": 14,
     "metadata": {},
     "output_type": "execute_result"
    }
   ],
   "source": [
    "response"
   ]
  },
  {
   "cell_type": "code",
   "execution_count": 15,
   "id": "df1ae8f0",
   "metadata": {},
   "outputs": [
    {
     "data": {
      "text/plain": [
       "str"
      ]
     },
     "execution_count": 15,
     "metadata": {},
     "output_type": "execute_result"
    }
   ],
   "source": [
    "type(response)"
   ]
  },
  {
   "cell_type": "code",
   "execution_count": null,
   "id": "e3b8e069",
   "metadata": {},
   "outputs": [],
   "source": []
  }
 ],
 "metadata": {
  "kernelspec": {
   "display_name": "llmapp_latest",
   "language": "python",
   "name": "python3"
  },
  "language_info": {
   "codemirror_mode": {
    "name": "ipython",
    "version": 3
   },
   "file_extension": ".py",
   "mimetype": "text/x-python",
   "name": "python",
   "nbconvert_exporter": "python",
   "pygments_lexer": "ipython3",
   "version": "3.13.2"
  }
 },
 "nbformat": 4,
 "nbformat_minor": 5
}
