{
 "cells": [
  {
   "cell_type": "code",
   "execution_count": 2,
   "id": "6817edb9",
   "metadata": {},
   "outputs": [],
   "source": [
    "import os\n",
    "from dotenv import load_dotenv, find_dotenv\n",
    "_ = load_dotenv(find_dotenv())\n",
    "openai_api_key = os.environ[\"OPENAI_API_KEY\"]"
   ]
  },
  {
   "cell_type": "code",
   "execution_count": 3,
   "id": "4e924d4b",
   "metadata": {},
   "outputs": [],
   "source": [
    "from langchain_openai import ChatOpenAI\n",
    "\n",
    "llm = ChatOpenAI(model = \"gpt-4.1-nano-2025-04-14\")"
   ]
  },
  {
   "cell_type": "code",
   "execution_count": 4,
   "id": "bdb8587d",
   "metadata": {},
   "outputs": [
    {
     "data": {
      "text/plain": [
       "{'query': 'Who are the top stars of the 2024 Eurocup?',\n",
       " 'follow_up_questions': None,\n",
       " 'answer': None,\n",
       " 'images': [],\n",
       " 'results': [{'title': 'EURO 2024 player Power Rankings: Who are the top 20 stars?',\n",
       "   'url': 'https://www.nbcsports.com/soccer/news/euro-2024-player-power-rankings-who-are-the-top-20-stars',\n",
       "   'content': 'EURO 2024 player Power Rankings: Who are the top 20 stars? EURO 2024 will be a very special tournament with superstars colliding across Germany. With Kylian Mbappe, Harry Kane and Kevin de Bruyne aiming to lead their teams to glory, plus ageing superstars like Toni Kroos and Cristiano Ronaldo still going strong and young stars Jude Bellingham, Florian Wirtz and Lamine Yamal set to take over, you can look all over the place for star performances this summer. Plus, every tournament there are always stars who emerge to make a name for themselves and players from Georgia and Austria are standing tall. EURO 2024 player Power Rankings Toni Kroos (Germany)11. Florian Wirtz (Germany)1.',\n",
       "   'score': 0.8851659,\n",
       "   'raw_content': None},\n",
       "  {'title': 'Biggest EuroCup stars in 2024-25 season - Basketnews.com',\n",
       "   'url': 'https://basketnews.com/news-211924-biggest-eurocup-stars-pat-beverley-2024-2025-season.html',\n",
       "   'content': \"The new EuroCup season starts on Tuesday, and there is much curiosity about who the new stars of Europe's second-biggest competition will be. Despite losing important teams like Paris, which moved up to the EuroLeague, and London, which will not compete this season due to difficulties with 777 Partners, the EuroCup will still feature prominent clubs.\",\n",
       "   'score': 0.49509352,\n",
       "   'raw_content': None},\n",
       "  {'title': 'The Best 11 of Players at Euro 2024 - GiveMeSport',\n",
       "   'url': 'https://www.givemesport.com/combined-11-players-euro-2024/',\n",
       "   'content': 'The Ultimate Combined 11 of Players at Euro 2024. By Daniel Hepburn. Published Mar 24, 2024',\n",
       "   'score': 0.2678725,\n",
       "   'raw_content': None}],\n",
       " 'response_time': 2.93}"
      ]
     },
     "execution_count": 4,
     "metadata": {},
     "output_type": "execute_result"
    }
   ],
   "source": [
    "from langchain_tavily import TavilySearch\n",
    "search = TavilySearch(max_results=3)\n",
    "search.invoke(\"Who are the top stars of the 2024 Eurocup?\")"
   ]
  },
  {
   "cell_type": "code",
   "execution_count": 5,
   "id": "6388a9e4",
   "metadata": {},
   "outputs": [],
   "source": [
    "tools = [search]"
   ]
  },
  {
   "cell_type": "code",
   "execution_count": 6,
   "id": "55efd63c",
   "metadata": {},
   "outputs": [
    {
     "data": {
      "text/plain": [
       "[TavilySearch(max_results=3, api_wrapper=TavilySearchAPIWrapper(tavily_api_key=SecretStr('**********')))]"
      ]
     },
     "execution_count": 6,
     "metadata": {},
     "output_type": "execute_result"
    }
   ],
   "source": [
    "tools"
   ]
  },
  {
   "cell_type": "code",
   "execution_count": 7,
   "id": "e0bcb97a",
   "metadata": {},
   "outputs": [],
   "source": [
    "from langgraph.prebuilt import create_react_agent\n",
    "\n",
    "agent_executor = create_react_agent(llm, tools)"
   ]
  },
  {
   "cell_type": "code",
   "execution_count": 8,
   "id": "7c59e768",
   "metadata": {},
   "outputs": [
    {
     "data": {
      "text/plain": [
       "[HumanMessage(content='Where is the soccer Eurocup 2024 played?', additional_kwargs={}, response_metadata={}, id='88ef0663-fe29-4a85-bcb9-32076bbbb699'),\n",
       " AIMessage(content='', additional_kwargs={'tool_calls': [{'id': 'call_OdGq7AyzcPcFTYKVod9jzqm3', 'function': {'arguments': '{\"query\":\"Euro 2024 soccer tournament location\"}', 'name': 'tavily_search'}, 'type': 'function'}], 'refusal': None}, response_metadata={'token_usage': {'completion_tokens': 22, 'prompt_tokens': 778, 'total_tokens': 800, 'completion_tokens_details': {'accepted_prediction_tokens': 0, 'audio_tokens': 0, 'reasoning_tokens': 0, 'rejected_prediction_tokens': 0}, 'prompt_tokens_details': {'audio_tokens': 0, 'cached_tokens': 0}}, 'model_name': 'gpt-4.1-nano-2025-04-14', 'system_fingerprint': 'fp_f12167b370', 'id': 'chatcmpl-BcYy11f9vESNQ9JJwImR5KjlNtPes', 'service_tier': 'default', 'finish_reason': 'tool_calls', 'logprobs': None}, id='run--81c6052b-9ee6-41bd-9013-19907d4e9209-0', tool_calls=[{'name': 'tavily_search', 'args': {'query': 'Euro 2024 soccer tournament location'}, 'id': 'call_OdGq7AyzcPcFTYKVod9jzqm3', 'type': 'tool_call'}], usage_metadata={'input_tokens': 778, 'output_tokens': 22, 'total_tokens': 800, 'input_token_details': {'audio': 0, 'cache_read': 0}, 'output_token_details': {'audio': 0, 'reasoning': 0}}),\n",
       " ToolMessage(content='{\"query\": \"Euro 2024 soccer tournament location\", \"follow_up_questions\": null, \"answer\": null, \"images\": [], \"results\": [{\"title\": \"EURO 2024 host cities: Venue guide - UEFA.com\", \"url\": \"https://www.uefa.com/news-media/news/0273-14ac084902cc-9ef59ec61319-1000--euro-2024-host-cities-venue-guide/\", \"content\": \"EURO 2024 host cities: Venue guide | UEFA.com One of the most renowned venues in world football thanks to its famous \\'Yellow Wall\\' stand, the BVB Stadion Dortmund is one of the largest arenas at UEFA EURO 2024 and has hosted a string of World Cup and European football fixtures, including the 2001 UEFA Cup final between Liverpool and Deportivo Alavés. The Frankfurt Arena, home of Eintracht Frankfurt, was built in 1925 and has hosted games at several major tournaments including the 1988 UEFA European Championship and the 2006 World Cup. EURO 2024 matches Munich Football Arena hosted EURO 2020 games UEFA via Getty Images Notably hosted: 2012 UEFA Champions League final, EURO 2020 quarter-final\", \"score\": 0.76888984, \"raw_content\": null}, {\"title\": \"UEFA Euro 2024 - Wikipedia\", \"url\": \"https://en.wikipedia.org/wiki/UEFA_Euro_2024\", \"content\": \"The 23 remaining spots were determined by a qualifying tournament; 20 spots were decided by the direct qualification of the winners and runners-up of the 10 qualifying groups, with the remaining three spots decided by play-offs.[60] Places in the play-offs were given to the teams that performed the best in the 2022–23 UEFA Nations League who did not already qualify via the main qualifying tournament.[61] The draw for the UEFA Euro 2024 qualifying group stage was held on 9 October 2022 at the Festhalle in Frankfurt.[62][63] The qualifying group stage took place from March to November 2023, while the three play-offs were held in March 2024.[64]\", \"score\": 0.6989468, \"raw_content\": null}, {\"title\": \"Euro 2024 locations, host cities and stadiums - FOX Sports\", \"url\": \"https://www.foxsports.com/stories/soccer/euro-2024-locations-host-cities-and-stadiums\", \"content\": \"Euro 2024 locations, host cities and stadiums | FOX Sports Euro 2024 locations, host cities and stadiums Compare top rated options today.SCM Software | Yahoo Search| [Sponsored](https://popup.taboola.com/en/?template=colorbox&utm_source=foxsports1&utm_medium=referral&utm_content=thumbs-feed-01-b-delta:Below%20Article%20Thumbnails%20|%20Card%201:)[Sponsored](https://popup.taboola.com/en/?template=colorbox&utm_source=foxsports1&utm_medium=referral&utm_content=thumbs-feed-01-b-delta:Below%20Article%20Thumbnails%20|%20Card%201:) Learn More Search For Christian Book Publishers Accepting SubmissionsPublish with ease using top self-publishing firms for expert support and wider book reachYahoo Search | Search Ads| [Sponsored](https://popup.taboola.com/en/?template=colorbox&utm_source=foxsports1&utm_medium=referral&utm_content=thumbs-feed-01-b-delta:Below%20Article%20Thumbnails%20|%20Card%201:)[Sponsored](https://popup.taboola.com/en/?template=colorbox&utm_source=foxsports1&utm_medium=referral&utm_content=thumbs-feed-01-b-delta:Below%20Article%20Thumbnails%20|%20Card%201:) Search Now New Electric Cars Come With Tiny Price Tags (Take A Look)FrequentSearches | Search Ads| [Sponsored](https://popup.taboola.com/en/?template=colorbox&utm_source=foxsports1&utm_medium=referral&utm_content=thumbs-feed-01-b-delta:Below%20Article%20Thumbnails%20|%20Card%201:)[Sponsored](https://popup.taboola.com/en/?template=colorbox&utm_source=foxsports1&utm_medium=referral&utm_content=thumbs-feed-01-b-delta:Below%20Article%20Thumbnails%20|%20Card%201:) ️ Research Luxury Cruise LinesExplore Exquisite Luxury Cruise ExperiencesYahoo Search | Search Ads| [Sponsored](https://popup.taboola.com/en/?template=colorbox&utm_source=foxsports1&utm_medium=referral&utm_content=thumbs-feed-01-a-delta:Below%20Article%20Thumbnails%20|%20Card%202:)[Sponsored](https://popup.taboola.com/en/?template=colorbox&utm_source=foxsports1&utm_medium=referral&utm_content=thumbs-feed-01-a-delta:Below%20Article%20Thumbnails%20|%20Card%202:) Learn More Research Company Rewards ProgramsYahoo Search | Search Ads| [Sponsored](https://popup.taboola.com/en/?template=colorbox&utm_source=foxsports1&utm_medium=referral&utm_content=thumbs-feed-01-b-delta:Below%20Article%20Thumbnails%20|%20Card%205:)[Sponsored](https://popup.taboola.com/en/?template=colorbox&utm_source=foxsports1&utm_medium=referral&utm_content=thumbs-feed-01-b-delta:Below%20Article%20Thumbnails%20|%20Card%205:) Learn More Digital Advertising Done Right (Discover Now)Digital Advertising | Search Ads| [Sponsored](https://popup.taboola.com/en/?template=colorbox&utm_source=foxsports1&utm_medium=referral&utm_content=thumbs-feed-01-b-delta:Below%20Article%20Thumbnails%20|%20Card%205:)[Sponsored](https://popup.taboola.com/en/?template=colorbox&utm_source=foxsports1&utm_medium=referral&utm_content=thumbs-feed-01-b-delta:Below%20Article%20Thumbnails%20|%20Card%205:) Monitor Deadlines, Enhance Compliance, And Boost Productivity Effortlessly.Yahoo Search | Search Ads| [Sponsored](https://popup.taboola.com/en/?template=colorbox&utm_source=foxsports1&utm_medium=referral&utm_content=thumbs-feed-01-a-delta:Below%20Article%20Thumbnails%20|%20Card%206:)[Sponsored](https://popup.taboola.com/en/?template=colorbox&utm_source=foxsports1&utm_medium=referral&utm_content=thumbs-feed-01-a-delta:Below%20Article%20Thumbnails%20|%20Card%206:) Learn More\", \"score\": 0.52948296, \"raw_content\": null}], \"response_time\": 3.13}', name='tavily_search', id='38c8f2a8-3a4a-46a8-a51b-e62c12933afe', tool_call_id='call_OdGq7AyzcPcFTYKVod9jzqm3'),\n",
       " AIMessage(content='The UEFA Euro 2024 soccer tournament is played in several host cities across Germany. Some of the notable venues include the Frankfurt Arena in Frankfurt and the Munich Football Arena in Munich. The tournament will feature matches in multiple cities, making it a nationwide event in Germany.', additional_kwargs={'refusal': None}, response_metadata={'token_usage': {'completion_tokens': 54, 'prompt_tokens': 2274, 'total_tokens': 2328, 'completion_tokens_details': {'accepted_prediction_tokens': 0, 'audio_tokens': 0, 'reasoning_tokens': 0, 'rejected_prediction_tokens': 0}, 'prompt_tokens_details': {'audio_tokens': 0, 'cached_tokens': 0}}, 'model_name': 'gpt-4.1-nano-2025-04-14', 'system_fingerprint': 'fp_f12167b370', 'id': 'chatcmpl-BcYy6f8c4Jyrd3ATiSbcbWeIkHFq9', 'service_tier': 'default', 'finish_reason': 'stop', 'logprobs': None}, id='run--1188bd3c-441e-4456-8dd3-35edffd8b22a-0', usage_metadata={'input_tokens': 2274, 'output_tokens': 54, 'total_tokens': 2328, 'input_token_details': {'audio': 0, 'cache_read': 0}, 'output_token_details': {'audio': 0, 'reasoning': 0}})]"
      ]
     },
     "execution_count": 8,
     "metadata": {},
     "output_type": "execute_result"
    }
   ],
   "source": [
    "from langchain_core.messages import HumanMessage\n",
    "\n",
    "response = agent_executor.invoke({\"messages\": [HumanMessage(content=\"Where is the soccer Eurocup 2024 played?\")]})\n",
    "\n",
    "response[\"messages\"]"
   ]
  },
  {
   "cell_type": "code",
   "execution_count": 9,
   "id": "d7f7e4c6",
   "metadata": {},
   "outputs": [
    {
     "data": {
      "text/plain": [
       "[HumanMessage(content='What is Python?', additional_kwargs={}, response_metadata={}, id='9fc5f6a5-18c5-4172-9963-9f75a8a8af8d'),\n",
       " AIMessage(content='', additional_kwargs={'tool_calls': [{'id': 'call_uhzDYRIaNxs65uSuQO8Mlmyp', 'function': {'arguments': '{\"query\":\"What is Python?\"}', 'name': 'tavily_search'}, 'type': 'function'}], 'refusal': None}, response_metadata={'token_usage': {'completion_tokens': 19, 'prompt_tokens': 771, 'total_tokens': 790, 'completion_tokens_details': {'accepted_prediction_tokens': 0, 'audio_tokens': 0, 'reasoning_tokens': 0, 'rejected_prediction_tokens': 0}, 'prompt_tokens_details': {'audio_tokens': 0, 'cached_tokens': 0}}, 'model_name': 'gpt-4.1-nano-2025-04-14', 'system_fingerprint': 'fp_f12167b370', 'id': 'chatcmpl-BcYyCEN3PIqsFzYnUv6fyDjLlWy2V', 'service_tier': 'default', 'finish_reason': 'tool_calls', 'logprobs': None}, id='run--de7b7ab4-aa5d-46c9-af4b-14e959a2c719-0', tool_calls=[{'name': 'tavily_search', 'args': {'query': 'What is Python?'}, 'id': 'call_uhzDYRIaNxs65uSuQO8Mlmyp', 'type': 'tool_call'}], usage_metadata={'input_tokens': 771, 'output_tokens': 19, 'total_tokens': 790, 'input_token_details': {'audio': 0, 'cache_read': 0}, 'output_token_details': {'audio': 0, 'reasoning': 0}}),\n",
       " ToolMessage(content='{\"query\": \"What is Python?\", \"follow_up_questions\": null, \"answer\": null, \"images\": [], \"results\": [{\"title\": \"What is Python? Its Uses and Applications - GeeksforGeeks\", \"url\": \"https://www.geeksforgeeks.org/what-is-python/\", \"content\": \"What is Python? What is Python? What is Python? People use Python for Competitive Programming, Web Development, and creating software. What is Python? What is Python? Python ``` Python has use cases in web Development, Game Development, Automation, and technologies like AI, ML, and Data Analytics*. What is Python Used For? Python python What is Python Used For? | 7 Practical Python Applications Python is an interpreted and object-oriented programming language commonly used for web development, data analysis, artificial intelligence, and more. What is Python Used For? Why Pandas is Used in Python Pandas is an open-source library for the Python programming language that has become synonymous with data manipulation and analysis. Python Python\", \"score\": 0.7969415, \"raw_content\": null}, {\"title\": \"Python (programming language) - Wikipedia\", \"url\": \"https://en.wikipedia.org/wiki/Python_(programming_language)\", \"content\": \"PythonParadigmMulti-paradigm: object-oriented,[1] procedural (imperative), functional, structured, reflectiveDesigned\\xa0byGuido van RossumDeveloperPython Software FoundationFirst\\xa0appeared20\\xa0February 1991; 34 years ago\\xa0(1991-02-20)[2]Stable release3.13.2 / 4 February 2025; 2 months ago\\xa0(4 February 2025)Typing disciplineduck, dynamic, strong;[3] optional type annotations (since 3.5, but those hints are ignored, except with unofficial tools)[4]OS.mw-parser-output .plainlist ol,.mw-parser-output .plainlist ul{line-height:inherit;list-style:none;margin:0;padding:0}.mw-parser-output .plainlist ol li,.mw-parser-output .plainlist ul li{margin-bottom:0}Tier 1: 64-bit Linux, macOS; 64- and 32-bit Windows 10+[5]Tier 2: E.g. 32-bit WebAssembly (WASI)Tier 3: 64-bit Android,[6] iOS, FreeBSD, and (32-bit) Raspberry Pi OSUnofficial (or has been known to work): Other Unix-like/BSD variants) and a few other platforms[7][8][9]LicensePython Software Foundation LicenseFilename extensions.py, .pyw, .pyz,[10].pyi, .pyc, .pydWebsitepython.orgMajor implementationsCPython, PyPy, Stackless Python, MicroPython, CircuitPython, IronPython, JythonDialectsCython, RPython, Starlark[11]Influenced byABC,[12] Ada,[13] ALGOL 68,[14]APL,[15] C,[16] C++,[17] CLU,[18] Dylan,[19]Haskell,[20][15] Icon,[21] Lisp,[22]Modula-3,[14][17] Perl,[23] Standard ML[15]InfluencedApache Groovy, Boo, Cobra, CoffeeScript,[24] D, F#, GDScript, Go, JavaScript,[25][26] Julia,[27] Mojo,[28] Nim, Ring,[29] Ruby,[30] Swift,[31] V[32] Python Programming at Wikibooks\", \"score\": 0.6917478, \"raw_content\": null}, {\"title\": \"Introduction to Python - W3Schools\", \"url\": \"https://www.w3schools.com/python/python_intro.asp\", \"content\": \"CSS](/css/default.asp \\\\\"CSS Tutorial\\\\\") [Tutorial](/css/default.asp \\\\\"CSS Tutorial\\\\\") Machine Learning](/python/python_ml_getting_started.asp \\\\\"Machine Learning Tutorial\\\\\") [Tutorial](/python/python_ml_getting_started.asp \\\\\"Machine Learning Tutorial\\\\\") NumPy](/python/numpy/default.asp \\\\\"NumPy Tutorial\\\\\") [Tutorial](/python/numpy/default.asp \\\\\"NumPy Tutorial\\\\\") Pandas](/python/pandas/default.asp \\\\\"Pandas Tutorial\\\\\") [Tutorial](/python/pandas/default.asp \\\\\"Pandas Tutorial\\\\\") Matplotlib](/python/matplotlib_intro.asp \\\\\"Matplotlib Tutorial\\\\\") [Tutorial](/python/matplotlib_intro.asp \\\\\"Matplotlib Tutorial\\\\\") JavaScript](/js/default.asp \\\\\"JavaScript Tutorial\\\\\") [Tutorial](/js/default.asp \\\\\"JavaScript Tutorial\\\\\") Python](/python/default.asp \\\\\"Python Tutorial\\\\\") [Tutorial](/python/default.asp \\\\\"Python Tutorial\\\\\") MySQL](/mysql/default.asp \\\\\"MySQL Tutorial\\\\\") [Tutorial](/mysql/default.asp \\\\\"MySQL Tutorial\\\\\") PHP](/php/default.asp \\\\\"PHP Tutorial\\\\\") [Tutorial](/php/default.asp \\\\\"PHP Tutorial\\\\\") Machine Learning](/python/python_ml_getting_started.asp \\\\\"Machine Learning Tutorial\\\\\") [Tutorial](/python/python_ml_getting_started.asp \\\\\"Machine Learning Tutorial\\\\\") NumPy](/python/numpy/default.asp \\\\\"NumPy Tutorial\\\\\") [Tutorial](/python/numpy/default.asp \\\\\"NumPy Tutorial\\\\\") Pandas](/python/pandas/default.asp \\\\\"Pandas Tutorial\\\\\") [Tutorial](/python/pandas/default.asp \\\\\"Pandas Tutorial\\\\\") Matplotlib](/python/matplotlib_intro.asp \\\\\"Matplotlib Tutorial\\\\\") [Tutorial](/python/matplotlib_intro.asp \\\\\"Matplotlib Tutorial\\\\\") [NumPy Tutorial](numpy/default.asp) [Pandas Tutorial](pandas/default.asp) [MySQL Where](python_mysql_where.asp) [MongoDB Find](python_mongodb_find.asp) [Python Overview](python_reference.asp) [HTML Tutorial](/html/default.asp)   [CSS Tutorial](/css/default.asp)   [JavaScript Tutorial](/js/default.asp)   [How To Tutorial](/howto/default.asp)   [SQL Tutorial](/sql/default.asp)   [Python Tutorial](/python/default.asp)   [W3.CSS Tutorial](/w3css/default.asp)   [PHP Tutorial](/php/default.asp)   [Java Tutorial](/java/default.asp)   [C++ Tutorial](/cpp/default.asp)   [jQuery Tutorial](/jquery/default.asp) [ABOUT](/about/default.asp \\\\\"About W3Schools\\\\\")\", \"score\": 0.3579046, \"raw_content\": null}], \"response_time\": 2.08}', name='tavily_search', id='2c8e52cb-3c1a-4b0a-862c-d267450c70f0', tool_call_id='call_uhzDYRIaNxs65uSuQO8Mlmyp'),\n",
       " AIMessage(content='Python is a versatile programming language that is widely used in various domains such as web development, data analysis, artificial intelligence, machine learning, automation, and more. It is known for its simplicity and readability, making it accessible for beginners as well as powerful for experts. Python supports multiple programming paradigms, including object-oriented, procedural, and functional programming. It has a large standard library and a vibrant community that contributes to a rich ecosystem of frameworks and tools.', additional_kwargs={'refusal': None}, response_metadata={'token_usage': {'completion_tokens': 92, 'prompt_tokens': 2140, 'total_tokens': 2232, 'completion_tokens_details': {'accepted_prediction_tokens': 0, 'audio_tokens': 0, 'reasoning_tokens': 0, 'rejected_prediction_tokens': 0}, 'prompt_tokens_details': {'audio_tokens': 0, 'cached_tokens': 0}}, 'model_name': 'gpt-4.1-nano-2025-04-14', 'system_fingerprint': 'fp_f12167b370', 'id': 'chatcmpl-BcYyGcSHuETDsM49VMWhX6AGwbxo8', 'service_tier': 'default', 'finish_reason': 'stop', 'logprobs': None}, id='run--2b67dea1-3414-41f1-906c-47ad9c130ada-0', usage_metadata={'input_tokens': 2140, 'output_tokens': 92, 'total_tokens': 2232, 'input_token_details': {'audio': 0, 'cache_read': 0}, 'output_token_details': {'audio': 0, 'reasoning': 0}})]"
      ]
     },
     "execution_count": 9,
     "metadata": {},
     "output_type": "execute_result"
    }
   ],
   "source": [
    "from langchain_core.messages import HumanMessage\n",
    "\n",
    "response = agent_executor.invoke({\"messages\": [HumanMessage(content=\"What is Python?\")]})\n",
    "\n",
    "response[\"messages\"]"
   ]
  },
  {
   "cell_type": "code",
   "execution_count": 14,
   "id": "bc020e6e",
   "metadata": {},
   "outputs": [
    {
     "name": "stdout",
     "output_type": "stream",
     "text": [
      "{'agent': {'messages': [AIMessage(content='', additional_kwargs={'tool_calls': [{'id': 'call_bnlErTXKx5xbNNQzEJVTAUhf', 'function': {'arguments': '{\"query\":\"2024 Eurocup final match date and location\"}', 'name': 'tavily_search'}, 'type': 'function'}], 'refusal': None}, response_metadata={'token_usage': {'completion_tokens': 24, 'prompt_tokens': 782, 'total_tokens': 806, 'completion_tokens_details': {'accepted_prediction_tokens': 0, 'audio_tokens': 0, 'reasoning_tokens': 0, 'rejected_prediction_tokens': 0}, 'prompt_tokens_details': {'audio_tokens': 0, 'cached_tokens': 0}}, 'model_name': 'gpt-4.1-nano-2025-04-14', 'system_fingerprint': 'fp_eede8f0d45', 'id': 'chatcmpl-BcZ055uuzKMqYBVKokyTr5Ru9dLzE', 'service_tier': 'default', 'finish_reason': 'tool_calls', 'logprobs': None}, id='run--a6d767b0-b3d1-41f6-97b5-066466d2df63-0', tool_calls=[{'name': 'tavily_search', 'args': {'query': '2024 Eurocup final match date and location'}, 'id': 'call_bnlErTXKx5xbNNQzEJVTAUhf', 'type': 'tool_call'}], usage_metadata={'input_tokens': 782, 'output_tokens': 24, 'total_tokens': 806, 'input_token_details': {'audio': 0, 'cache_read': 0}, 'output_token_details': {'audio': 0, 'reasoning': 0}})]}}\n",
      "----\n",
      "{'tools': {'messages': [ToolMessage(content='{\"query\": \"2024 Eurocup final match date and location\", \"follow_up_questions\": null, \"answer\": null, \"images\": [], \"results\": [{\"title\": \"EURO 2024 final: Who was in it? When and where was it?\", \"url\": \"https://www.uefa.com/euro2024/news/0284-18bb952a9458-2a9e1ff202c4-1000--euro-2024-final-when-and-where-is-it/\", \"content\": \"The UEFA EURO 2024 final was played on Sunday 14 July, kicking off at 21:00 CET. The final: all the reaction The match took place at Olympiastadion Berlin, the biggest stadium at the tournament\", \"score\": 0.8296166, \"raw_content\": null}, {\"title\": \"Euro 2024 Final: Time, date, how to watch Spain vs England\", \"url\": \"https://www.foxsports.com/stories/soccer/euro-2024-final-time-date-how-watch-spain-vs-england\", \"content\": \"Euro 2024 Final: Time, date, how to watch Spain vs England When is the Euro 2024 Final? England ADVANCES to finals after incredible match against Netherlands | Euro Today Who is playing in the Euro 2024 Final? Spain is taking on England in the Euro 2024 Final. Spain made it out of Group B of Euro group play by winning each match. Spain ADVANCES to Finals following INCREDIBLE match against France | Euro Today As of July 10th, Spain is favored to win the Euro 2024 Final by DraftKings Sportsbook. Spain has won three Euro titles (2012, 2008, 1964), while England is looking to capture its first after falling in the Finals in the last Euro tournament.\", \"score\": 0.6241337, \"raw_content\": null}, {\"title\": \"UEFA Euro 2024 final - Wikipedia\", \"url\": \"https://en.wikipedia.org/wiki/UEFA_Euro_2024_Final\", \"content\": \"Spain won this time with Randal Kolo Muani opening the scoring for the French with a header in the 9th minute, but Yamal then equalised for the Spanish in the 21st minute with a shot to the left corner from outside the penalty area, Olmo then scored the winner for Spain in the 25th minute – this was originally given as a Jules Koundé own goal but after a review was given to Olmo – this sent Spain through to their first UEFA European Championship final since the UEFA Euro 2012 final against Italy which they won 4–0.\", \"score\": 0.47533798, \"raw_content\": null}], \"response_time\": 2.0}', name='tavily_search', id='ca646646-acf0-4cdc-9250-f1f10a7e7d6d', tool_call_id='call_bnlErTXKx5xbNNQzEJVTAUhf')]}}\n",
      "----\n",
      "{'agent': {'messages': [AIMessage(content='The 2024 Eurocup (UEFA European Championship) final match will be held at Olympiastadion Berlin in Germany. It is scheduled for Sunday, 14 July 2024, with the kickoff at 21:00 CET.', additional_kwargs={'refusal': None}, response_metadata={'token_usage': {'completion_tokens': 50, 'prompt_tokens': 1405, 'total_tokens': 1455, 'completion_tokens_details': {'accepted_prediction_tokens': 0, 'audio_tokens': 0, 'reasoning_tokens': 0, 'rejected_prediction_tokens': 0}, 'prompt_tokens_details': {'audio_tokens': 0, 'cached_tokens': 0}}, 'model_name': 'gpt-4.1-nano-2025-04-14', 'system_fingerprint': 'fp_f12167b370', 'id': 'chatcmpl-BcZ0AYzrPBy6jcbeZASC7rLaC5eG8', 'service_tier': 'default', 'finish_reason': 'stop', 'logprobs': None}, id='run--d4ae1f27-9f33-4a01-aaa2-56e07aa0ebff-0', usage_metadata={'input_tokens': 1405, 'output_tokens': 50, 'total_tokens': 1455, 'input_token_details': {'audio': 0, 'cache_read': 0}, 'output_token_details': {'audio': 0, 'reasoning': 0}})]}}\n",
      "----\n"
     ]
    }
   ],
   "source": [
    "for chunk in agent_executor.stream(\n",
    "    {\"messages\": [HumanMessage(content=\"When and where will it be the 2024 Eurocup final match?\")]}\n",
    "):\n",
    "    print(chunk)\n",
    "    print(\"----\")"
   ]
  },
  {
   "cell_type": "markdown",
   "id": "0be12c67",
   "metadata": {},
   "source": [
    "## Adding memory\n",
    "* Adding memory in LangGraph is very similar to what we did with LangChain."
   ]
  },
  {
   "cell_type": "code",
   "execution_count": 20,
   "id": "506a0313",
   "metadata": {},
   "outputs": [],
   "source": [
    "from langgraph.checkpoint.memory import MemorySaver\n",
    "\n",
    "memory = MemorySaver()"
   ]
  },
  {
   "cell_type": "code",
   "execution_count": 21,
   "id": "d2075c04",
   "metadata": {},
   "outputs": [],
   "source": [
    "agent_executor = create_react_agent(llm, tools, checkpointer=memory)\n",
    "\n",
    "config = {\"configurable\": {\"thread_id\": \"001\"}}"
   ]
  },
  {
   "cell_type": "code",
   "execution_count": 22,
   "id": "019106f4",
   "metadata": {},
   "outputs": [
    {
     "name": "stdout",
     "output_type": "stream",
     "text": [
      "{'agent': {'messages': [AIMessage(content='', additional_kwargs={'tool_calls': [{'id': 'call_QitJp9VDqsz5y5BIIhUQTFIX', 'function': {'arguments': '{\"query\":\"winner of the 2024 soccer Eurocup\"}', 'name': 'tavily_search'}, 'type': 'function'}], 'refusal': None}, response_metadata={'token_usage': {'completion_tokens': 24, 'prompt_tokens': 777, 'total_tokens': 801, 'completion_tokens_details': {'accepted_prediction_tokens': 0, 'audio_tokens': 0, 'reasoning_tokens': 0, 'rejected_prediction_tokens': 0}, 'prompt_tokens_details': {'audio_tokens': 0, 'cached_tokens': 0}}, 'model_name': 'gpt-4.1-nano-2025-04-14', 'system_fingerprint': 'fp_f12167b370', 'id': 'chatcmpl-BcZA2n4xxzAp8BUdbro2KtZKN16zl', 'service_tier': 'default', 'finish_reason': 'tool_calls', 'logprobs': None}, id='run--40126718-5e21-40bd-b34f-d8d0d0e5128e-0', tool_calls=[{'name': 'tavily_search', 'args': {'query': 'winner of the 2024 soccer Eurocup'}, 'id': 'call_QitJp9VDqsz5y5BIIhUQTFIX', 'type': 'tool_call'}], usage_metadata={'input_tokens': 777, 'output_tokens': 24, 'total_tokens': 801, 'input_token_details': {'audio': 0, 'cache_read': 0}, 'output_token_details': {'audio': 0, 'reasoning': 0}})]}}\n",
      "----\n",
      "{'tools': {'messages': [ToolMessage(content='{\"query\": \"winner of the 2024 soccer Eurocup\", \"follow_up_questions\": null, \"answer\": null, \"images\": [], \"results\": [{\"title\": \"UEFA EURO 2024: Meet the winners\", \"url\": \"https://www.uefa.com/euro2024/news/028f-1b4e4a9a6d42-253a2c18efdf-1000--uefa-euro-2024-meet-the-winners/\", \"content\": \"UEFA EURO 2024: Meet the winners | UEFA EURO 2024 | UEFA.com UEFA EURO 2024 - UEFA EURO 2024: Meet the winners - News  UEFA EURO 2024: Meet the winners Get the full lowdown on UEFA EURO 2024 winners Spain. How they got there, top scorers, pedigree, key players and the coach – all you need to know about UEFA EURO 2024 winners Spain. He led Spanish national teams to EURO glory at age-group levels – Under-19s in 2015 and U21s in 2019 – and his senior team beat Italy and Croatia in winning the UEFA Nations League last summer. Live 14/07/2024 Lowdown: EURO 2024 final ------------------------ Spain beat England 2-1 in the EURO 2024 final at Olympiastadion Berlin on Sunday 14 July. UEFA EURO 2024\", \"score\": 0.78512776, \"raw_content\": null}, {\"title\": \"UEFA Euro 2024 final - Wikipedia\", \"url\": \"https://en.wikipedia.org/wiki/UEFA_Euro_2024_Final\", \"content\": \"Spain won this time with Randal Kolo Muani opening the scoring for the French with a header in the 9th minute, but Yamal then equalised for the Spanish in the 21st minute with a shot to the left corner from outside the penalty area, Olmo then scored the winner for Spain in the 25th minute – this was originally given as a Jules Koundé own goal but after a review was given to Olmo – this sent Spain through to their first UEFA European Championship final since the UEFA Euro 2012 final against Italy which they won 4–0.\", \"score\": 0.76617163, \"raw_content\": null}, {\"title\": \"Spain wins Euro 2024, defeating England 2-1 in a dramatic final to ...\", \"url\": \"https://www.cnn.com/2024/07/14/sport/spain-england-euro-2024-final-spt-intl/index.html\", \"content\": \"Spain wins Euro 2024, defeating England 2-1 in a dramatic final to claim record fourth European Championship | CNN CNN10 About CNN Spain won a record-breaking fourth European Championship, defeating England 2-1 following a drama-filled second half in the Euro 2024 final on Sunday in Berlin. Nico Williams (right) celebrates with his teammate Lamine Yamal after scoring Spain\\'s first goal against England in the Euro 2024 final. Yamal, who turned 17 the day before the final, appeared in every one of Spain’s seven games in Germany, providing a tournament-high four assists and scoring one goal: a stunning, record-breaking effort in the semifinal against France which made him the youngest ever scorer in Euro history. More from CNN CNN10 About CNN\", \"score\": 0.7606688, \"raw_content\": null}], \"response_time\": 0.77}', name='tavily_search', id='b667e32a-42ff-4750-a116-a30c16bcb4e2', tool_call_id='call_QitJp9VDqsz5y5BIIhUQTFIX')]}}\n",
      "----\n",
      "{'agent': {'messages': [AIMessage(content='Spain won the 2024 UEFA Eurocup, defeating England 2-1 in the final held in Berlin.', additional_kwargs={'refusal': None}, response_metadata={'token_usage': {'completion_tokens': 24, 'prompt_tokens': 1544, 'total_tokens': 1568, 'completion_tokens_details': {'accepted_prediction_tokens': 0, 'audio_tokens': 0, 'reasoning_tokens': 0, 'rejected_prediction_tokens': 0}, 'prompt_tokens_details': {'audio_tokens': 0, 'cached_tokens': 1408}}, 'model_name': 'gpt-4.1-nano-2025-04-14', 'system_fingerprint': 'fp_f12167b370', 'id': 'chatcmpl-BcZA5c2412o0GS1iYVYKF8u4mCO2l', 'service_tier': 'default', 'finish_reason': 'stop', 'logprobs': None}, id='run--572697cb-f5ae-4810-9dac-cc180304628a-0', usage_metadata={'input_tokens': 1544, 'output_tokens': 24, 'total_tokens': 1568, 'input_token_details': {'audio': 0, 'cache_read': 1408}, 'output_token_details': {'audio': 0, 'reasoning': 0}})]}}\n",
      "----\n"
     ]
    }
   ],
   "source": [
    "for chunk in agent_executor.stream(\n",
    "    {\"messages\": [HumanMessage(content=\"Who won the 2024 soccer Eurocup?\")]}, config\n",
    "):\n",
    "    print(chunk)\n",
    "    print(\"----\")"
   ]
  },
  {
   "cell_type": "code",
   "execution_count": 23,
   "id": "e6990143",
   "metadata": {},
   "outputs": [
    {
     "name": "stdout",
     "output_type": "stream",
     "text": [
      "{'agent': {'messages': [AIMessage(content=\"The top stars of the Spain team that won the UEFA Euro 2024 included Lamine Yamal, who was the youngest ever scorer in Euro history and provided four assists during the tournament, and other key players who contributed to the team's success. Yamal's performance was particularly notable, especially with his record-breaking goal in the semifinals against France.\", additional_kwargs={'refusal': None}, response_metadata={'token_usage': {'completion_tokens': 71, 'prompt_tokens': 1585, 'total_tokens': 1656, 'completion_tokens_details': {'accepted_prediction_tokens': 0, 'audio_tokens': 0, 'reasoning_tokens': 0, 'rejected_prediction_tokens': 0}, 'prompt_tokens_details': {'audio_tokens': 0, 'cached_tokens': 1408}}, 'model_name': 'gpt-4.1-nano-2025-04-14', 'system_fingerprint': 'fp_f12167b370', 'id': 'chatcmpl-BcZAARoxr9mFigmX7r628T94jO2xZ', 'service_tier': 'default', 'finish_reason': 'stop', 'logprobs': None}, id='run--4b2f9945-30c9-420c-9ece-aa9ed9001f86-0', usage_metadata={'input_tokens': 1585, 'output_tokens': 71, 'total_tokens': 1656, 'input_token_details': {'audio': 0, 'cache_read': 1408}, 'output_token_details': {'audio': 0, 'reasoning': 0}})]}}\n",
      "----\n"
     ]
    }
   ],
   "source": [
    "for chunk in agent_executor.stream(\n",
    "    {\"messages\": [HumanMessage(content=\"Who were the top stars of that winner team?\")]}, config\n",
    "):\n",
    "    print(chunk)\n",
    "    print(\"----\")"
   ]
  },
  {
   "cell_type": "code",
   "execution_count": 24,
   "id": "0e53521e",
   "metadata": {},
   "outputs": [
    {
     "name": "stdout",
     "output_type": "stream",
     "text": [
      "{'agent': {'messages': [AIMessage(content=\"We haven't discussed any soccer teams yet. Could you please provide more details or remind me of the previous conversation?\", additional_kwargs={'refusal': None}, response_metadata={'token_usage': {'completion_tokens': 23, 'prompt_tokens': 775, 'total_tokens': 798, 'completion_tokens_details': {'accepted_prediction_tokens': 0, 'audio_tokens': 0, 'reasoning_tokens': 0, 'rejected_prediction_tokens': 0}, 'prompt_tokens_details': {'audio_tokens': 0, 'cached_tokens': 0}}, 'model_name': 'gpt-4.1-nano-2025-04-14', 'system_fingerprint': 'fp_f12167b370', 'id': 'chatcmpl-BcZAQaxKEjFWiuR0gXSyol6LrXSWz', 'service_tier': 'default', 'finish_reason': 'stop', 'logprobs': None}, id='run--9f7e0f6f-bbd0-4087-be36-e77f228c2495-0', usage_metadata={'input_tokens': 775, 'output_tokens': 23, 'total_tokens': 798, 'input_token_details': {'audio': 0, 'cache_read': 0}, 'output_token_details': {'audio': 0, 'reasoning': 0}})]}}\n",
      "----\n"
     ]
    }
   ],
   "source": [
    "config = {\"configurable\": {\"thread_id\": \"002\"}}\n",
    "for chunk in agent_executor.stream(\n",
    "    {\"messages\": [HumanMessage(content=\"About what soccer team we were talking?\")]}, config\n",
    "):\n",
    "    print(chunk)\n",
    "    print(\"----\")"
   ]
  },
  {
   "cell_type": "code",
   "execution_count": null,
   "id": "bcee86fe",
   "metadata": {},
   "outputs": [],
   "source": []
  }
 ],
 "metadata": {
  "kernelspec": {
   "display_name": "llmapp_latest",
   "language": "python",
   "name": "python3"
  },
  "language_info": {
   "codemirror_mode": {
    "name": "ipython",
    "version": 3
   },
   "file_extension": ".py",
   "mimetype": "text/x-python",
   "name": "python",
   "nbconvert_exporter": "python",
   "pygments_lexer": "ipython3",
   "version": "3.13.2"
  }
 },
 "nbformat": 4,
 "nbformat_minor": 5
}
