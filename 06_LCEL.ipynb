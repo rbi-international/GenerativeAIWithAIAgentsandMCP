{
 "cells": [
  {
   "cell_type": "code",
   "execution_count": 1,
   "id": "6858a9fa",
   "metadata": {},
   "outputs": [],
   "source": [
    "import os\n",
    "from dotenv import load_dotenv, find_dotenv\n",
    "_ = load_dotenv(find_dotenv())\n",
    "openai_api_key = os.environ[\"OPENAI_API_KEY\"]"
   ]
  },
  {
   "cell_type": "code",
   "execution_count": 2,
   "id": "089807f9",
   "metadata": {},
   "outputs": [],
   "source": [
    "from langchain_openai import ChatOpenAI\n",
    "\n",
    "chatModel = ChatOpenAI(model = \"gpt-4.1-nano-2025-04-14\")"
   ]
  },
  {
   "cell_type": "code",
   "execution_count": 3,
   "id": "b72ce6b4",
   "metadata": {},
   "outputs": [],
   "source": [
    "from langchain_core.output_parsers import StrOutputParser\n",
    "from langchain_core.prompts import ChatPromptTemplate\n",
    "\n",
    "prompt = ChatPromptTemplate.from_template(\"tell me a curious fact about {politician}\")\n",
    "\n",
    "chain = prompt | chatModel | StrOutputParser()"
   ]
  },
  {
   "cell_type": "code",
   "execution_count": 4,
   "id": "8050c569",
   "metadata": {},
   "outputs": [
    {
     "data": {
      "text/plain": [
       "'A fascinating fact about John F. Kennedy is that he was the first U.S. president to carefully document and record his thoughts in a detailed personal diary, which was later published publicly. His diary entries reveal his inner thoughts, doubts, and reflections during significant moments of his presidency, providing a rare, intimate glimpse into the mind of a leader during a tumultuous era.'"
      ]
     },
     "execution_count": 4,
     "metadata": {},
     "output_type": "execute_result"
    }
   ],
   "source": [
    "chain.invoke({\"politician\": \"JFK\"})"
   ]
  },
  {
   "cell_type": "markdown",
   "id": "2da08340",
   "metadata": {},
   "source": [
    "# Legacy chain"
   ]
  },
  {
   "cell_type": "code",
   "execution_count": 5,
   "id": "e769277a",
   "metadata": {},
   "outputs": [
    {
     "name": "stderr",
     "output_type": "stream",
     "text": [
      "C:\\Users\\rbhar\\AppData\\Local\\Temp\\ipykernel_39824\\892502830.py:5: LangChainDeprecationWarning: The class `LLMChain` was deprecated in LangChain 0.1.17 and will be removed in 1.0. Use :meth:`~RunnableSequence, e.g., `prompt | llm`` instead.\n",
      "  traditional_chain = LLMChain(\n"
     ]
    },
    {
     "data": {
      "text/plain": [
       "'A curious fact about Diego Maradona is that he was once accidentally shot in the hand during a hunting trip in 1991. Despite the injury, he famously joked about it, saying, \"I am lucky not to have lost my hand.\" This incident highlights his adventurous and sometimes unpredictable personality beyond his legendary football skills.'"
      ]
     },
     "execution_count": 5,
     "metadata": {},
     "output_type": "execute_result"
    }
   ],
   "source": [
    "from langchain.chains import LLMChain\n",
    "\n",
    "prompt = ChatPromptTemplate.from_template(\"tell me a curious fact about {soccer_player}\")\n",
    "\n",
    "traditional_chain = LLMChain(\n",
    "    llm=chatModel,\n",
    "    prompt=prompt\n",
    ")\n",
    "\n",
    "traditional_chain.predict(soccer_player=\"Maradona\")"
   ]
  },
  {
   "cell_type": "code",
   "execution_count": 6,
   "id": "b72ca336",
   "metadata": {},
   "outputs": [
    {
     "data": {
      "text/plain": [
       "'A curious fact about Cristiano Ronaldo is that he is known for his incredible dedication to fitness and nutrition, which has helped him maintain peak performance even into his late 30s. Interestingly, he follows a very strict diet that emphasizes high-protein foods, low sugar intake, and plenty of vegetables, and he is also famous for his rigorous training routines and commitment to recovery, including techniques like cryotherapy and massages. This disciplined approach has often been cited as a key factor behind his longevity and consistent success at the highest levels of football.'"
      ]
     },
     "execution_count": 6,
     "metadata": {},
     "output_type": "execute_result"
    }
   ],
   "source": [
    "chain = prompt | chatModel | StrOutputParser()\n",
    "\n",
    "chain.invoke({\"soccer_player\": \"Ronaldo\"})"
   ]
  },
  {
   "cell_type": "code",
   "execution_count": 7,
   "id": "9d722cb2",
   "metadata": {},
   "outputs": [
    {
     "data": {
      "text/plain": [
       "'A curious fact about Cristiano Ronaldo is that he is the first player in history to win the UEFA Champions League with three different clubs—Manchester United, Real Madrid, and Juventus. This achievement highlights his exceptional talent and adaptability across various top European teams.'"
      ]
     },
     "execution_count": 7,
     "metadata": {},
     "output_type": "execute_result"
    }
   ],
   "source": [
    "prompt = ChatPromptTemplate.from_template(\"tell me a curious fact about {soccer_player}\")\n",
    "\n",
    "output_parser = StrOutputParser()\n",
    "\n",
    "chain = prompt | chatModel | output_parser\n",
    "\n",
    "chain.invoke({\"soccer_player\": \"Ronaldo\"})"
   ]
  },
  {
   "cell_type": "code",
   "execution_count": 8,
   "id": "8a7c930c",
   "metadata": {},
   "outputs": [
    {
     "name": "stdout",
     "output_type": "stream",
     "text": [
      "A curious fact about Cristiano Ronaldo is that he has a tattoo of his mother’s name, \"Maria Dolores,\" along with her portrait, on his left arm. Interestingly, Ronaldo revealed that he got this tattoo as a tribute to her support and sacrifice, and he’s known for his strong family ties and dedication to his loved ones."
     ]
    }
   ],
   "source": [
    "for s in chain.stream({\"soccer_player\": \"Ronaldo\"}):\n",
    "    print(s, end=\"\", flush=True)"
   ]
  },
  {
   "cell_type": "code",
   "execution_count": 9,
   "id": "7566db05",
   "metadata": {},
   "outputs": [
    {
     "data": {
      "text/plain": [
       "[\"Here's an interesting fact about Cristiano Ronaldo: He is known for his incredible work ethic and dedication to fitness, but did you know that he has a custom-made, high-tech refrigerator in his home that monitors and tracks his food intake to ensure optimal nutrition? This innovative approach helps him maintain his peak performance on the field!\",\n",
       " 'A curious fact about Lionel Messi is that, despite being widely regarded as one of the greatest footballers of all time, he was actually rejected by FC Barcelona’s youth academy at age 13 because of their concerns about his physical stature, as he was small for his age. However, the club later recognized his exceptional talent and gave him a chance, ultimately launching his legendary career.']"
      ]
     },
     "execution_count": 9,
     "metadata": {},
     "output_type": "execute_result"
    }
   ],
   "source": [
    "chain.batch([{\"soccer_player\": \"Ronaldo\"}, {\"soccer_player\": \"Messi\"}])"
   ]
  },
  {
   "cell_type": "code",
   "execution_count": null,
   "id": "80e221c4",
   "metadata": {},
   "outputs": [],
   "source": []
  }
 ],
 "metadata": {
  "kernelspec": {
   "display_name": "llmapp_latest",
   "language": "python",
   "name": "python3"
  },
  "language_info": {
   "codemirror_mode": {
    "name": "ipython",
    "version": 3
   },
   "file_extension": ".py",
   "mimetype": "text/x-python",
   "name": "python",
   "nbconvert_exporter": "python",
   "pygments_lexer": "ipython3",
   "version": "3.13.2"
  }
 },
 "nbformat": 4,
 "nbformat_minor": 5
}
