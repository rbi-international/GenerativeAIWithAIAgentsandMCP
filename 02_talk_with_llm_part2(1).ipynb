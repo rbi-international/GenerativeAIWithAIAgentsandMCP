{
 "cells": [
  {
   "cell_type": "code",
   "execution_count": 1,
   "id": "ea92e98c",
   "metadata": {},
   "outputs": [],
   "source": [
    "import os\n",
    "from dotenv import load_dotenv, find_dotenv\n",
    "_ = load_dotenv(find_dotenv())\n",
    "openai_api_key = os.environ[\"OPENAI_API_KEY\"]"
   ]
  },
  {
   "cell_type": "markdown",
   "id": "aa77aeba",
   "metadata": {},
   "source": [
    "# Completion model"
   ]
  },
  {
   "cell_type": "code",
   "execution_count": 2,
   "id": "372857ed",
   "metadata": {},
   "outputs": [],
   "source": [
    "from langchain_openai import OpenAI"
   ]
  },
  {
   "cell_type": "code",
   "execution_count": 3,
   "id": "ac557704",
   "metadata": {},
   "outputs": [],
   "source": [
    "llmModel = OpenAI()"
   ]
  },
  {
   "cell_type": "markdown",
   "id": "f8bda30b",
   "metadata": {},
   "source": [
    "# Chat Completion Model"
   ]
  },
  {
   "cell_type": "code",
   "execution_count": 4,
   "id": "333b2e11",
   "metadata": {},
   "outputs": [],
   "source": [
    "from langchain_openai import ChatOpenAI\n",
    "\n",
    "chatModel = ChatOpenAI(model = \"gpt-4.1-nano-2025-04-14\")"
   ]
  },
  {
   "cell_type": "markdown",
   "id": "93820560",
   "metadata": {},
   "source": [
    "## Prompts and Prompt Templates"
   ]
  },
  {
   "cell_type": "code",
   "execution_count": 5,
   "id": "4a7756e7",
   "metadata": {},
   "outputs": [
    {
     "name": "stdout",
     "output_type": "stream",
     "text": [
      "\n",
      "\n",
      "In the 1990s, a group of researchers at IBM were experimenting with machine learning algorithms to see if they could predict stock market trends. They trained their algorithm on decades of stock market data and were surprised to find that it was able to accurately predict market fluctuations with over 90% accuracy.\n",
      "\n",
      "Excited by their discovery, the researchers decided to put their algorithm to the test and used it to predict the stock market for the following week. To their amazement, the algorithm was wrong in almost all of its predictions.\n",
      "\n",
      "Confused and disappointed, the researchers decided to dig deeper into their algorithm's decision-making process. They soon discovered that the algorithm had learned to make its predictions based on the state of the weather. It turned out that on days where the weather was sunny, the stock market tended to go up, and on days where the weather was cloudy, the stock market tended to go down.\n",
      "\n",
      "While this may seem like a strange and unreliable correlation, the researchers were able to confirm that there was indeed a strong correlation between weather and stock market trends. They were amazed to see that their algorithm had picked up on this pattern and used it to make its predictions.\n",
      "\n",
      "This story highlights the fascinating and sometimes unexpected ways in which machine learning algorithms can learn and make predictions based\n"
     ]
    }
   ],
   "source": [
    "# This is for Completion Model\n",
    "from langchain_core.prompts import PromptTemplate\n",
    "\n",
    "prompt_template = PromptTemplate.from_template(\n",
    "    \"Tell me a {adjective} story about {topic}\"\n",
    ")\n",
    "\n",
    "llmModelPrompt = prompt_template.format(\n",
    "    adjective = \"curious\",\n",
    "    topic = \"Machine Learning\"\n",
    ")\n",
    "\n",
    "response = llmModel.invoke(llmModelPrompt)\n",
    "print(response)"
   ]
  },
  {
   "cell_type": "code",
   "execution_count": 6,
   "id": "d0d177fa",
   "metadata": {},
   "outputs": [
    {
     "name": "stdout",
     "output_type": "stream",
     "text": [
      "Great question! Let me clarify the distinctions among Machine Learning, Deep Learning, and Generative AI, and how they relate to each other.\n",
      "\n",
      "**1. Machine Learning (ML):**  \n",
      "- **Definition:** A subset of Artificial Intelligence (AI) where algorithms enable systems to learn from data and improve over time without being explicitly programmed for every task.  \n",
      "- **Scope:** Broad; includes many techniques like decision trees, support vector machines, k-nearest neighbors, etc.  \n",
      "- **Functionality:** Finds patterns in data to make predictions or decisions.  \n",
      "- **Example:** Spam email classifiers, recommendation systems.\n",
      "\n",
      "**2. Deep Learning (DL):**  \n",
      "- **Definition:** A specialized subset of machine learning that uses neural networks with many layers (hence \"deep\") to automatically learn feature representations from raw data.  \n",
      "- **Scope:** Focused on neural network architectures like Convolutional Neural Networks (CNNs), Recurrent Neural Networks (RNNs), Transformers, etc.  \n",
      "- **Capabilities:** Excels at processing unstructured data such as images, audio, and text.  \n",
      "- **Example:** Image recognition, natural language processing, speech synthesis.\n",
      "\n",
      "**3. Generative AI:**  \n",
      "- **Definition:** A class of AI models designed to generate new data resembling the training data, such as images, text, music, or code.  \n",
      "- **Relation to ML and DL:**  \n",
      "  - *Primarily employs deep learning techniques.*  \n",
      "  - *Utilizes models like Generative Adversarial Networks (GANs), Variational Autoencoders (VAEs), and Transformer-based models (e.g., GPT series).*  \n",
      "- **Purpose:** To create new, realistic data instances—\"generating\" content.  \n",
      "- **Example:** ChatGPT generating human-like text, DALL-E creating images from textual descriptions, Deepfake videos.\n",
      "\n",
      "---\n",
      "\n",
      "**In summary:**\n",
      "\n",
      "| Aspect                     | Machine Learning                         | Deep Learning                                | Generative AI                              |\n",
      "|----------------------------|------------------------------------------|----------------------------------------------|--------------------------------------------|\n",
      "| Definition                 | Learning from data to make predictions  | Learning hierarchical features via neural nets | Generating new data resembling training data |\n",
      "| Techniques                 | Decision trees, SVMs, KNN, etc.         | Neural networks with many layers             | GANs, VAEs, Transformer-based models     |\n",
      "| Data Type                  | Various (structured/unstructured)       | Unstructured data (images, text, audio)     | Typically unstructured data (images, text, etc.) |\n",
      "| Goal                       | Prediction, classification             | Feature extraction, representation learning | Content generation                          |\n",
      "\n",
      "**In essence:**  \n",
      "- Machine Learning is the overarching field.  \n",
      "- Deep Learning is a subset focused on neural networks with many layers.  \n",
      "- Generative AI is an application area that often uses deep learning techniques to create new content.\n",
      "\n",
      "Let me know if you'd like me to elaborate on any of these areas!\n"
     ]
    }
   ],
   "source": [
    "# Chat Completion Model\n",
    "\n",
    "from langchain_core.prompts import ChatPromptTemplate\n",
    "\n",
    "chat_template = ChatPromptTemplate.from_messages(\n",
    "    [\n",
    "        (\"system\", \"You are an {profession} expert on {topic}.\"),\n",
    "        (\"human\", \"Hello, Mr. {profession}, can you please answer a question?\"),\n",
    "        (\"ai\", \"Sure!\"),\n",
    "        (\"human\", \"{user_input}\"),\n",
    "    ]\n",
    ")\n",
    "\n",
    "messages = chat_template.format_messages(\n",
    "    profession=\"Artificial Intelligence Professor\",\n",
    "    topic=\"Generative AI\",\n",
    "    user_input=\"How is Machine learning different from Deep Learning and where falls Generative AI?\"\n",
    ")\n",
    "\n",
    "response = chatModel.invoke(messages)\n",
    "print(response.content)\n"
   ]
  },
  {
   "cell_type": "markdown",
   "id": "90bff1bf",
   "metadata": {},
   "source": [
    "# Old way"
   ]
  },
  {
   "cell_type": "code",
   "execution_count": 7,
   "id": "61658982",
   "metadata": {},
   "outputs": [],
   "source": [
    "from langchain_core.messages import SystemMessage\n",
    "from langchain_core.prompts import HumanMessagePromptTemplate\n",
    "\n",
    "chat_template = ChatPromptTemplate.from_messages(\n",
    "    [\n",
    "        SystemMessage(\n",
    "            content=(\n",
    "                \"You are an Historian expert on the Kennedy family.\"\n",
    "            )\n",
    "        ),\n",
    "        HumanMessagePromptTemplate.from_template(\"{user_input}\"),\n",
    "    ]\n",
    ")\n",
    "\n",
    "messages = chat_template.format_messages(\n",
    "    user_input=\"Name the children and grandchildren of Joseph P. Kennedy?\"\n",
    ")\n",
    "\n",
    "response = chatModel.invoke(messages)"
   ]
  },
  {
   "cell_type": "code",
   "execution_count": 8,
   "id": "39dae435",
   "metadata": {},
   "outputs": [
    {
     "name": "stdout",
     "output_type": "stream",
     "text": [
      "Joseph P. Kennedy Sr. and his wife, Rose Kennedy, had nine children, many of whom further contributed to the Kennedy family legacy through their own children. Here are their children and, where applicable, their grandchildren:\n",
      "\n",
      "**Children of Joseph P. Kennedy and Rose Kennedy:**\n",
      "\n",
      "1. **Joseph P. Kennedy Jr. (1915–1944)**  \n",
      "   - No children; died in World War II.\n",
      "\n",
      "2. **John F. Kennedy (1917–1963)**  \n",
      "   - Married Jacqueline Kennedy.  \n",
      "   - Children:\n",
      "     - Caroline Kennedy (born 1957)\n",
      "     - John F. Kennedy Jr. (1960–1999)\n",
      "     - Caroline Kennedy Schlossberg (born 1957, daughter of John F. Kennedy and Jacqueline)\n",
      "\n",
      "3. **Joseph P. Kennedy II (born 1952)**  \n",
      "   - Son of Robert F. Kennedy, not Joseph P. Kennedy Sr.  \n",
      "   - *Note:* Joseph P. Kennedy II is a grandson, not a son of Joseph P. Kennedy Sr.\n",
      "\n",
      "4. **Rose Kennedy Schlossberg (born 1988)**  \n",
      "   - Daughter of Caroline Kennedy, granddaughter of Joseph P. Kennedy Sr.\n",
      "\n",
      "5. **Kathleen \"Kick\" Kennedy (1920–1948)**  \n",
      "   - Died unmarried; no children.\n",
      "\n",
      "6. **Robert F. Kennedy (1925–1968)**  \n",
      "   - Married Ethel Kennedy.  \n",
      "   - Children:\n",
      "     - David Anthony Kennedy (1955–1984)\n",
      "     - Robert F. Kennedy Jr. (born 1954)\n",
      "     - Kathleen Kennedy Townsend (born 1951)\n",
      "     - Joseph P. Kennedy II (born 1952)\n",
      "     - Maeve Kennedy Townsend McKean (born 1979)\n",
      "     - Kara Kennedy (1960–2011)\n",
      "     - Christopher G. Kennedy (born 1963)\n",
      "\n",
      "7. **Ethel Kennedy (born 1928)**  \n",
      "   - Married to Robert F. Kennedy, no children of her own, but her children are listed above under Robert F. Kennedy.\n",
      "\n",
      "8. **Edward M. \"Ted\" Kennedy (1932–2009)**  \n",
      "   - Married multiple times.  \n",
      "   - Children (not all are publicly documented, but notable include):\n",
      "     - Patrick J. Kennedy (born 1967)\n",
      "     - Kara Kennedy (1960–2011)\n",
      "     - Edward M. Kennedy Jr. (born 1961)\n",
      "\n",
      "9. **P. J. Kennedy (1932–1991)** — *Note:* P. J. Kennedy was a nephew who was often confused with the patriarch; he is not a child of Joseph P. Kennedy Sr.\n",
      "\n",
      "**Summary of the main children:**\n",
      "\n",
      "- Joseph P. Kennedy Jr.\n",
      "- John F. Kennedy\n",
      "- Robert F. Kennedy\n",
      "- Edward M. Kennedy\n",
      "- Rosemary Kennedy (1918–2005) — Sister, not listed as a child here but a significant family member.\n",
      "- Kathleen \"Kick\" Kennedy\n",
      "- Eunice Kennedy Shriver (1921–2009) — Sister, also significant but not a child of Joseph P. Kennedy Sr.\n",
      "- Patricia Kennedy Lawford (1924–2011) — Sister\n",
      "- Jean Kennedy Smith (1928–2016) — Sister\n",
      "\n",
      "**Grandchildren (selected notable ones):**\n",
      "\n",
      "- From John F. Kennedy:\n",
      "  - Caroline Kennedy Schlosberg\n",
      "  - John F. Kennedy Jr.\n",
      "\n",
      "- From Robert F. Kennedy:\n",
      "  - Kathleen Kennedy Townsend\n",
      "  - Robert F. Kennedy Jr.\n",
      "  - Joseph P. Kennedy II\n",
      "  - Maeve Kennedy McKean\n",
      "  - Kara Kennedy\n",
      "  - Christopher G. Kennedy\n",
      "\n",
      "- From Edward M. Kennedy:\n",
      "  - Patrick J. Kennedy\n",
      "  - Edward M. Kennedy Jr.\n",
      "\n",
      "This overview captures the main line of descendants, noting that the Kennedy family has many extended relatives and other descendants not exhaustively listed here.\n"
     ]
    }
   ],
   "source": [
    "print(response.content)"
   ]
  },
  {
   "cell_type": "markdown",
   "id": "ed37b7bf",
   "metadata": {},
   "source": [
    "## Few Shot Prompting"
   ]
  },
  {
   "cell_type": "code",
   "execution_count": 9,
   "id": "dcee420f",
   "metadata": {},
   "outputs": [],
   "source": [
    "from langchain_core.prompts import FewShotChatMessagePromptTemplate\n",
    "\n",
    "examples = [\n",
    "    {\"input\": \"hi!\", \"output\": \"¡hola!\"},\n",
    "    {\"input\": \"bye!\", \"output\": \"¡adiós!\"},\n",
    "]\n",
    "\n",
    "example_prompt = ChatPromptTemplate.from_messages(\n",
    "    [\n",
    "        (\"human\", \"{input}\"),\n",
    "        (\"ai\", \"{output}\"),\n",
    "    ]\n",
    ")\n",
    "\n",
    "few_shot_prompt = FewShotChatMessagePromptTemplate(\n",
    "    example_prompt=example_prompt,\n",
    "    examples=examples,\n",
    ")\n",
    "\n",
    "final_prompt = ChatPromptTemplate.from_messages(\n",
    "    [\n",
    "        (\"system\", \"You are an English-Spanish translator.\"),\n",
    "        few_shot_prompt,\n",
    "        (\"human\", \"{input}\"),\n",
    "    ]\n",
    ")"
   ]
  },
  {
   "cell_type": "markdown",
   "id": "dbaddadd",
   "metadata": {},
   "source": [
    "# Chains"
   ]
  },
  {
   "cell_type": "code",
   "execution_count": 10,
   "id": "e5b9899b",
   "metadata": {},
   "outputs": [
    {
     "name": "stdout",
     "output_type": "stream",
     "text": [
      "¿Cómo estás?\n"
     ]
    }
   ],
   "source": [
    "from langchain_core.prompts import FewShotChatMessagePromptTemplate\n",
    "\n",
    "examples = [\n",
    "    {\"input\": \"hi!\", \"output\": \"¡hola!\"},\n",
    "    {\"input\": \"bye!\", \"output\": \"¡adiós!\"},\n",
    "]\n",
    "\n",
    "example_prompt = ChatPromptTemplate.from_messages(\n",
    "    [\n",
    "        (\"human\", \"{input}\"),\n",
    "        (\"ai\", \"{output}\"),\n",
    "    ]\n",
    ")\n",
    "\n",
    "few_shot_prompt = FewShotChatMessagePromptTemplate(\n",
    "    example_prompt=example_prompt,\n",
    "    examples=examples,\n",
    ")\n",
    "\n",
    "final_prompt = ChatPromptTemplate.from_messages(\n",
    "    [\n",
    "        (\"system\", \"You are an English-Spanish translator.\"),\n",
    "        few_shot_prompt,\n",
    "        (\"human\", \"{input}\"),\n",
    "    ]\n",
    ")\n",
    "\n",
    "chain = final_prompt | chatModel\n",
    "\n",
    "response = chain.invoke({\"input\" : \"How are you?\"})\n",
    "print(response.content)"
   ]
  },
  {
   "cell_type": "code",
   "execution_count": 11,
   "id": "7bf20835",
   "metadata": {},
   "outputs": [],
   "source": [
    "# Langchain Expressions Language"
   ]
  },
  {
   "cell_type": "markdown",
   "id": "8308df57",
   "metadata": {},
   "source": [
    "## Output Parsers"
   ]
  },
  {
   "cell_type": "code",
   "execution_count": 13,
   "id": "a2b89688",
   "metadata": {},
   "outputs": [],
   "source": [
    "from langchain_openai import OpenAI\n",
    "\n",
    "llmModel = OpenAI()"
   ]
  },
  {
   "cell_type": "code",
   "execution_count": 12,
   "id": "e5fbdca1",
   "metadata": {},
   "outputs": [],
   "source": [
    "from langchain_openai import ChatOpenAI\n",
    "\n",
    "chatModel = ChatOpenAI(model = \"gpt-4.1-nano-2025-04-14\")"
   ]
  },
  {
   "cell_type": "code",
   "execution_count": 14,
   "id": "12928051",
   "metadata": {},
   "outputs": [],
   "source": [
    "from langchain_core.prompts import PromptTemplate\n",
    "from langchain.output_parsers.json import SimpleJsonOutputParser\n",
    "\n",
    "json_prompt = PromptTemplate.from_template(\n",
    "    \"Return a JSON object with an `answer` key that answers the following question: {question}\"\n",
    ")\n",
    "\n",
    "json_parser = SimpleJsonOutputParser()\n",
    "\n",
    "json_chain = json_prompt | llmModel | json_parser"
   ]
  },
  {
   "cell_type": "code",
   "execution_count": 21,
   "id": "75eb3e57",
   "metadata": {},
   "outputs": [
    {
     "data": {
      "text/plain": [
       "'Return a JSON object.'"
      ]
     },
     "execution_count": 21,
     "metadata": {},
     "output_type": "execute_result"
    }
   ],
   "source": [
    "json_parser.get_format_instructions()"
   ]
  },
  {
   "cell_type": "code",
   "execution_count": 16,
   "id": "baa3cb29",
   "metadata": {},
   "outputs": [],
   "source": [
    "res = json_chain.invoke({\"question\" : \"Which is the biggest country?\"})"
   ]
  },
  {
   "cell_type": "code",
   "execution_count": 17,
   "id": "cf8c4136",
   "metadata": {},
   "outputs": [
    {
     "data": {
      "text/plain": [
       "dict"
      ]
     },
     "execution_count": 17,
     "metadata": {},
     "output_type": "execute_result"
    }
   ],
   "source": [
    "type(res)"
   ]
  },
  {
   "cell_type": "markdown",
   "id": "fa3fb58f",
   "metadata": {},
   "source": [
    "#### Optionally, you can use Pydantic to define a custom output format"
   ]
  },
  {
   "cell_type": "code",
   "execution_count": 19,
   "id": "8be6f857",
   "metadata": {},
   "outputs": [],
   "source": [
    "from langchain_core.output_parsers import JsonOutputParser\n",
    "from langchain_core.prompts import PromptTemplate\n",
    "# from langchain_core.pydantic_v1 import BaseModel, Field # deprecated\n",
    "from pydantic import BaseModel, Field"
   ]
  },
  {
   "cell_type": "code",
   "execution_count": 20,
   "id": "55bd27ee",
   "metadata": {},
   "outputs": [],
   "source": [
    "# Define a Pydantic Object with the desired output format.\n",
    "class Joke(BaseModel):\n",
    "    setup: str = Field(description=\"question to set up a joke\")\n",
    "    punchline: str = Field(description=\"answer to resolve the joke\")"
   ]
  },
  {
   "cell_type": "code",
   "execution_count": 22,
   "id": "55166e78",
   "metadata": {},
   "outputs": [
    {
     "data": {
      "text/plain": [
       "{'setup': 'Why did the scarecrow win an award?',\n",
       " 'punchline': 'Because he was outstanding in his field.'}"
      ]
     },
     "execution_count": 22,
     "metadata": {},
     "output_type": "execute_result"
    }
   ],
   "source": [
    "# Define the parser referring the Pydantic Object\n",
    "parser = JsonOutputParser(pydantic_object=Joke)\n",
    "\n",
    "# Add the parser format instructions in the prompt definition.\n",
    "prompt = PromptTemplate(\n",
    "    template=\"Answer the user query.\\n{format_instructions}\\n{query}\\n\",\n",
    "    input_variables=[\"query\"],\n",
    "    partial_variables={\"format_instructions\": parser.get_format_instructions()},\n",
    ")\n",
    "\n",
    "# Create a chain with the prompt and the parser\n",
    "chain = prompt | chatModel | parser\n",
    "\n",
    "chain.invoke({\"query\": \"Tell me a joke.\"})"
   ]
  },
  {
   "cell_type": "code",
   "execution_count": null,
   "id": "550657da",
   "metadata": {},
   "outputs": [],
   "source": []
  }
 ],
 "metadata": {
  "kernelspec": {
   "display_name": "llmapp_latest",
   "language": "python",
   "name": "python3"
  },
  "language_info": {
   "codemirror_mode": {
    "name": "ipython",
    "version": 3
   },
   "file_extension": ".py",
   "mimetype": "text/x-python",
   "name": "python",
   "nbconvert_exporter": "python",
   "pygments_lexer": "ipython3",
   "version": "3.13.2"
  }
 },
 "nbformat": 4,
 "nbformat_minor": 5
}
