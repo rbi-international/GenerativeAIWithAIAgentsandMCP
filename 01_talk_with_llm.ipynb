{
 "cells": [
  {
   "cell_type": "code",
   "execution_count": 1,
   "id": "cdd859be",
   "metadata": {},
   "outputs": [],
   "source": [
    "import os\n",
    "from dotenv import load_dotenv, find_dotenv\n",
    "_ = load_dotenv(find_dotenv())\n",
    "openai_api_key = os.environ[\"OPENAI_API_KEY\"]\n"
   ]
  },
  {
   "cell_type": "markdown",
   "id": "51be822a",
   "metadata": {},
   "source": [
    "# Completion Model"
   ]
  },
  {
   "cell_type": "code",
   "execution_count": 4,
   "id": "bde3c664",
   "metadata": {},
   "outputs": [],
   "source": [
    "from langchain_openai import OpenAI\n",
    "\n",
    "llmModel = OpenAI()"
   ]
  },
  {
   "cell_type": "code",
   "execution_count": 8,
   "id": "dcd0a3c7",
   "metadata": {},
   "outputs": [],
   "source": [
    "response = llmModel.invoke(\"Tell me one fun fact about Kennedy Family.\")"
   ]
  },
  {
   "cell_type": "code",
   "execution_count": 9,
   "id": "2f17220b",
   "metadata": {},
   "outputs": [
    {
     "name": "stdout",
     "output_type": "stream",
     "text": [
      "\n",
      "\n",
      "One fun fact about the Kennedy family is that they have a tradition of playing touch football on Thanksgiving Day. This tradition was started by President John F. Kennedy and his siblings in the 1960s and has been carried on by subsequent generations of the family.\n"
     ]
    }
   ],
   "source": [
    "print(response)"
   ]
  },
  {
   "cell_type": "code",
   "execution_count": 11,
   "id": "003edbed",
   "metadata": {},
   "outputs": [
    {
     "name": "stdout",
     "output_type": "stream",
     "text": [
      "\n",
      "\n",
      "One fun fact about the Kennedy family is that they had a pet pony named Macaroni. John F. Kennedy, his wife Jacqueline, and their children Caroline and John Jr. often rode Macaroni around the White House lawn. The pony was a gift from Vice President Lyndon B. Johnson in 1962 and became a beloved part of the family. Macaroni even attended Caroline's 5th birthday party at the White House, wearing a custom-made saddle with the presidential seal. The Kennedy family also had other pets including dogs, cats, and a hamster, but Macaroni holds a special place in their family history. "
     ]
    }
   ],
   "source": [
    "for chunk in llmModel.stream(\n",
    "    \"Tell me one fun fact about Kennedy Family. I need detailed response\"\n",
    "):\n",
    "    print(chunk, end = \"\", flush = True)"
   ]
  },
  {
   "cell_type": "code",
   "execution_count": 13,
   "id": "beb66fe0",
   "metadata": {},
   "outputs": [],
   "source": [
    "creativeLlmModel = OpenAI(temperature=0.9)"
   ]
  },
  {
   "cell_type": "code",
   "execution_count": 14,
   "id": "981c072e",
   "metadata": {},
   "outputs": [],
   "source": [
    "response = creativeLlmModel.invoke(\"Tell me one fun fact about Kennedy Family.\")"
   ]
  },
  {
   "cell_type": "code",
   "execution_count": 15,
   "id": "aa207d84",
   "metadata": {},
   "outputs": [
    {
     "name": "stdout",
     "output_type": "stream",
     "text": [
      "\n",
      "\n",
      "One fun fact about the Kennedy family is that John F. Kennedy, the 35th President of the United States, was the first and only Catholic president in American history.\n"
     ]
    }
   ],
   "source": [
    "print(response)"
   ]
  },
  {
   "cell_type": "code",
   "execution_count": 17,
   "id": "b29383d6",
   "metadata": {},
   "outputs": [],
   "source": [
    "response = llmModel.invoke(\n",
    "    \"Write a short 5 line poem about JFK\"\n",
    ")"
   ]
  },
  {
   "cell_type": "code",
   "execution_count": 18,
   "id": "90c385ef",
   "metadata": {},
   "outputs": [
    {
     "name": "stdout",
     "output_type": "stream",
     "text": [
      "\n",
      "\n",
      "A leader of grace and charm,\n",
      "His legacy forever warm,\n",
      "His words still echo in our minds,\n",
      "His memory will never decline,\n",
      "JFK, a president one of a kind.\n"
     ]
    }
   ],
   "source": [
    "print(response)"
   ]
  },
  {
   "cell_type": "markdown",
   "id": "8a3e2e50",
   "metadata": {},
   "source": [
    "# Chat Model"
   ]
  },
  {
   "cell_type": "code",
   "execution_count": 19,
   "id": "33d989dd",
   "metadata": {},
   "outputs": [],
   "source": [
    "from langchain_openai import ChatOpenAI"
   ]
  },
  {
   "cell_type": "code",
   "execution_count": 22,
   "id": "6924a527",
   "metadata": {},
   "outputs": [],
   "source": [
    "chatModel = ChatOpenAI(model = \"gpt-4.1-nano-2025-04-14\")"
   ]
  },
  {
   "cell_type": "code",
   "execution_count": 23,
   "id": "44838d50",
   "metadata": {},
   "outputs": [],
   "source": [
    "messages = [\n",
    "    (\"system\", \"You are an historian expert in the Kennedy family.\"),\n",
    "    (\"human\", \"Tell me one Curious thing about JFK.\")\n",
    "]\n",
    "\n",
    "response = chatModel.invoke(messages)"
   ]
  },
  {
   "cell_type": "code",
   "execution_count": 24,
   "id": "1b9a1bf4",
   "metadata": {},
   "outputs": [
    {
     "name": "stdout",
     "output_type": "stream",
     "text": [
      "One curious fact about John F. Kennedy is that he was a voracious reader and a prolific writer—despite his busy schedule as President, he often read more than 1,000 pages a day and kept meticulous handwritten journals. Interestingly, he also used to prepare extensive briefing notebooks and was known for his sharp intellect and curiosity about a wide range of topics, including history, foreign policy, and literature.\n"
     ]
    }
   ],
   "source": [
    "print(response.content)"
   ]
  },
  {
   "cell_type": "code",
   "execution_count": 25,
   "id": "b32893ac",
   "metadata": {},
   "outputs": [
    {
     "data": {
      "text/plain": [
       "{'token_usage': {'completion_tokens': 82,\n",
       "  'prompt_tokens': 29,\n",
       "  'total_tokens': 111,\n",
       "  'completion_tokens_details': {'accepted_prediction_tokens': 0,\n",
       "   'audio_tokens': 0,\n",
       "   'reasoning_tokens': 0,\n",
       "   'rejected_prediction_tokens': 0},\n",
       "  'prompt_tokens_details': {'audio_tokens': 0, 'cached_tokens': 0}},\n",
       " 'model_name': 'gpt-4.1-nano-2025-04-14',\n",
       " 'system_fingerprint': 'fp_17d1f82c3e',\n",
       " 'id': 'chatcmpl-BboPFGyrcu6BRqD9NOPxcnVjjQqyU',\n",
       " 'service_tier': 'default',\n",
       " 'finish_reason': 'stop',\n",
       " 'logprobs': None}"
      ]
     },
     "execution_count": 25,
     "metadata": {},
     "output_type": "execute_result"
    }
   ],
   "source": [
    "response.response_metadata"
   ]
  },
  {
   "cell_type": "code",
   "execution_count": 29,
   "id": "bbb97814",
   "metadata": {},
   "outputs": [
    {
     "data": {
      "text/plain": [
       "{'$defs': {'InputTokenDetails': {'description': 'Breakdown of input token counts.\\n\\nDoes *not* need to sum to full input token count. Does *not* need to have all keys.\\n\\nExample:\\n\\n    .. code-block:: python\\n\\n        {\\n            \"audio\": 10,\\n            \"cache_creation\": 200,\\n            \"cache_read\": 100,\\n        }\\n\\n.. versionadded:: 0.3.9',\n",
       "   'properties': {'audio': {'title': 'Audio', 'type': 'integer'},\n",
       "    'cache_creation': {'title': 'Cache Creation', 'type': 'integer'},\n",
       "    'cache_read': {'title': 'Cache Read', 'type': 'integer'}},\n",
       "   'title': 'InputTokenDetails',\n",
       "   'type': 'object'},\n",
       "  'InvalidToolCall': {'description': 'Allowance for errors made by LLM.\\n\\nHere we add an `error` key to surface errors made during generation\\n(e.g., invalid JSON arguments.)',\n",
       "   'properties': {'name': {'anyOf': [{'type': 'string'}, {'type': 'null'}],\n",
       "     'title': 'Name'},\n",
       "    'args': {'anyOf': [{'type': 'string'}, {'type': 'null'}], 'title': 'Args'},\n",
       "    'id': {'anyOf': [{'type': 'string'}, {'type': 'null'}], 'title': 'Id'},\n",
       "    'error': {'anyOf': [{'type': 'string'}, {'type': 'null'}],\n",
       "     'title': 'Error'},\n",
       "    'type': {'const': 'invalid_tool_call', 'title': 'Type', 'type': 'string'}},\n",
       "   'required': ['name', 'args', 'id', 'error'],\n",
       "   'title': 'InvalidToolCall',\n",
       "   'type': 'object'},\n",
       "  'OutputTokenDetails': {'description': 'Breakdown of output token counts.\\n\\nDoes *not* need to sum to full output token count. Does *not* need to have all keys.\\n\\nExample:\\n\\n    .. code-block:: python\\n\\n        {\\n            \"audio\": 10,\\n            \"reasoning\": 200,\\n        }\\n\\n.. versionadded:: 0.3.9',\n",
       "   'properties': {'audio': {'title': 'Audio', 'type': 'integer'},\n",
       "    'reasoning': {'title': 'Reasoning', 'type': 'integer'}},\n",
       "   'title': 'OutputTokenDetails',\n",
       "   'type': 'object'},\n",
       "  'ToolCall': {'description': 'Represents a request to call a tool.\\n\\nExample:\\n\\n    .. code-block:: python\\n\\n        {\\n            \"name\": \"foo\",\\n            \"args\": {\"a\": 1},\\n            \"id\": \"123\"\\n        }\\n\\n    This represents a request to call the tool named \"foo\" with arguments {\"a\": 1}\\n    and an identifier of \"123\".',\n",
       "   'properties': {'name': {'title': 'Name', 'type': 'string'},\n",
       "    'args': {'additionalProperties': True, 'title': 'Args', 'type': 'object'},\n",
       "    'id': {'anyOf': [{'type': 'string'}, {'type': 'null'}], 'title': 'Id'},\n",
       "    'type': {'const': 'tool_call', 'title': 'Type', 'type': 'string'}},\n",
       "   'required': ['name', 'args', 'id'],\n",
       "   'title': 'ToolCall',\n",
       "   'type': 'object'},\n",
       "  'UsageMetadata': {'description': 'Usage metadata for a message, such as token counts.\\n\\nThis is a standard representation of token usage that is consistent across models.\\n\\nExample:\\n\\n    .. code-block:: python\\n\\n        {\\n            \"input_tokens\": 350,\\n            \"output_tokens\": 240,\\n            \"total_tokens\": 590,\\n            \"input_token_details\": {\\n                \"audio\": 10,\\n                \"cache_creation\": 200,\\n                \"cache_read\": 100,\\n            },\\n            \"output_token_details\": {\\n                \"audio\": 10,\\n                \"reasoning\": 200,\\n            }\\n        }\\n\\n.. versionchanged:: 0.3.9\\n\\n    Added ``input_token_details`` and ``output_token_details``.',\n",
       "   'properties': {'input_tokens': {'title': 'Input Tokens', 'type': 'integer'},\n",
       "    'output_tokens': {'title': 'Output Tokens', 'type': 'integer'},\n",
       "    'total_tokens': {'title': 'Total Tokens', 'type': 'integer'},\n",
       "    'input_token_details': {'$ref': '#/$defs/InputTokenDetails'},\n",
       "    'output_token_details': {'$ref': '#/$defs/OutputTokenDetails'}},\n",
       "   'required': ['input_tokens', 'output_tokens', 'total_tokens'],\n",
       "   'title': 'UsageMetadata',\n",
       "   'type': 'object'}},\n",
       " 'additionalProperties': True,\n",
       " 'description': 'Message from an AI.\\n\\nAIMessage is returned from a chat model as a response to a prompt.\\n\\nThis message represents the output of the model and consists of both\\nthe raw output as returned by the model together standardized fields\\n(e.g., tool calls, usage metadata) added by the LangChain framework.',\n",
       " 'properties': {'content': {'anyOf': [{'type': 'string'},\n",
       "    {'items': {'anyOf': [{'type': 'string'},\n",
       "       {'additionalProperties': True, 'type': 'object'}]},\n",
       "     'type': 'array'}],\n",
       "   'title': 'Content'},\n",
       "  'additional_kwargs': {'additionalProperties': True,\n",
       "   'title': 'Additional Kwargs',\n",
       "   'type': 'object'},\n",
       "  'response_metadata': {'additionalProperties': True,\n",
       "   'title': 'Response Metadata',\n",
       "   'type': 'object'},\n",
       "  'type': {'const': 'ai', 'default': 'ai', 'title': 'Type', 'type': 'string'},\n",
       "  'name': {'anyOf': [{'type': 'string'}, {'type': 'null'}],\n",
       "   'default': None,\n",
       "   'title': 'Name'},\n",
       "  'id': {'anyOf': [{'type': 'string'}, {'type': 'null'}],\n",
       "   'default': None,\n",
       "   'title': 'Id'},\n",
       "  'example': {'default': False, 'title': 'Example', 'type': 'boolean'},\n",
       "  'tool_calls': {'default': [],\n",
       "   'items': {'$ref': '#/$defs/ToolCall'},\n",
       "   'title': 'Tool Calls',\n",
       "   'type': 'array'},\n",
       "  'invalid_tool_calls': {'default': [],\n",
       "   'items': {'$ref': '#/$defs/InvalidToolCall'},\n",
       "   'title': 'Invalid Tool Calls',\n",
       "   'type': 'array'},\n",
       "  'usage_metadata': {'anyOf': [{'$ref': '#/$defs/UsageMetadata'},\n",
       "    {'type': 'null'}],\n",
       "   'default': None}},\n",
       " 'required': ['content'],\n",
       " 'title': 'AIMessage',\n",
       " 'type': 'object'}"
      ]
     },
     "execution_count": 29,
     "metadata": {},
     "output_type": "execute_result"
    }
   ],
   "source": [
    "# before it was response.schema() now is deprecated\n",
    "response.model_json_schema()"
   ]
  },
  {
   "cell_type": "markdown",
   "id": "1aa6fb9f",
   "metadata": {},
   "source": [
    "# Old Langchain"
   ]
  },
  {
   "cell_type": "code",
   "execution_count": 30,
   "id": "1b44f987",
   "metadata": {},
   "outputs": [],
   "source": [
    "from langchain_core.messages import HumanMessage, SystemMessage"
   ]
  },
  {
   "cell_type": "code",
   "execution_count": 31,
   "id": "6b7771f9",
   "metadata": {},
   "outputs": [],
   "source": [
    "messages = [\n",
    "    SystemMessage(content=\"You are an historian expert on the Kennedy Family.\"),\n",
    "    HumanMessage(content=\"How many children had Joseph P. Kennedy?\"),\n",
    "]\n",
    "\n",
    "response = chatModel.invoke(messages)"
   ]
  },
  {
   "cell_type": "code",
   "execution_count": 32,
   "id": "be6bcfaf",
   "metadata": {},
   "outputs": [
    {
     "data": {
      "text/plain": [
       "AIMessage(content='Joseph P. Kennedy Sr. had nine children.', additional_kwargs={'refusal': None}, response_metadata={'token_usage': {'completion_tokens': 10, 'prompt_tokens': 30, 'total_tokens': 40, 'completion_tokens_details': {'accepted_prediction_tokens': 0, 'audio_tokens': 0, 'reasoning_tokens': 0, 'rejected_prediction_tokens': 0}, 'prompt_tokens_details': {'audio_tokens': 0, 'cached_tokens': 0}}, 'model_name': 'gpt-4.1-nano-2025-04-14', 'system_fingerprint': 'fp_17d1f82c3e', 'id': 'chatcmpl-Bbqi1LuCSiJ6uQaUJMYZGwUcusshV', 'service_tier': 'default', 'finish_reason': 'stop', 'logprobs': None}, id='run--f5c69e11-e5fd-4415-abe1-e35b4725cf32-0', usage_metadata={'input_tokens': 30, 'output_tokens': 10, 'total_tokens': 40, 'input_token_details': {'audio': 0, 'cache_read': 0}, 'output_token_details': {'audio': 0, 'reasoning': 0}})"
      ]
     },
     "execution_count": 32,
     "metadata": {},
     "output_type": "execute_result"
    }
   ],
   "source": [
    "response"
   ]
  },
  {
   "cell_type": "markdown",
   "id": "7dfe2e2e",
   "metadata": {},
   "source": [
    "# Alternative LLM"
   ]
  },
  {
   "cell_type": "markdown",
   "id": "f1dca9e7",
   "metadata": {},
   "source": [
    "https://console.groq.com/login"
   ]
  },
  {
   "cell_type": "code",
   "execution_count": 33,
   "id": "eaaa549f",
   "metadata": {},
   "outputs": [],
   "source": [
    "import os\n",
    "from dotenv import load_dotenv, find_dotenv\n",
    "_ = load_dotenv(find_dotenv())"
   ]
  },
  {
   "cell_type": "code",
   "execution_count": 34,
   "id": "3a58f382",
   "metadata": {},
   "outputs": [],
   "source": [
    "from langchain_groq import ChatGroq\n",
    "\n",
    "llamaChatModel = ChatGroq(\n",
    "    model=\"llama3-70b-8192\"\n",
    ")"
   ]
  },
  {
   "cell_type": "code",
   "execution_count": 35,
   "id": "44934176",
   "metadata": {},
   "outputs": [],
   "source": [
    "deepChatModel = ChatGroq(\n",
    "    model=\"deepseek-r1-distill-llama-70b\"\n",
    ")"
   ]
  },
  {
   "cell_type": "code",
   "execution_count": 36,
   "id": "2b040da7",
   "metadata": {},
   "outputs": [],
   "source": [
    "messages = [\n",
    "    (\"system\", \"You are an historian expert in the Kennedy family.\"),\n",
    "    (\"human\", \"How many members of the family died tragically?\"),\n",
    "]"
   ]
  },
  {
   "cell_type": "code",
   "execution_count": 37,
   "id": "3a50ccdd",
   "metadata": {},
   "outputs": [],
   "source": [
    "llamaResponse = llamaChatModel.invoke(messages)"
   ]
  },
  {
   "cell_type": "code",
   "execution_count": 38,
   "id": "e1fe5bfd",
   "metadata": {},
   "outputs": [
    {
     "name": "stdout",
     "output_type": "stream",
     "text": [
      "The Kennedy family has indeed been marked by a series of tragic and untimely deaths. Here are some of the most notable ones:\n",
      "\n",
      "1. Joseph P. Kennedy Jr. (1915-1944): The eldest son of Joseph P. Kennedy Sr. and Rose Kennedy, Joe Jr. was a naval aviator who was killed in action during World War II. He was just 29 years old.\n",
      "\n",
      "2. Kathleen Kennedy (1920-1948 Kathleen, also known as \"Kick,\" was the fourth child and second daughter of the Kennedy family. She died in a plane crash in France in 1948, at the age of 28.\n",
      "\n",
      "3. John F. Kennedy (1917-1963): The 35th President of the United States, John F. Kennedy was assassinated in Dallas, Texas, on November 22, 1963, at the age of 46.\n",
      "\n",
      "4. Robert F. Kennedy (1925-1968): The younger brother of John F. Kennedy, Robert was a U.S. Senator and Attorney General. He was assassinated on June 5, 1968, while campaigning for the Democratic presidential nomination, at the age of 42.\n",
      "\n",
      "5. David Kennedy (1955-1984): The 12th child of Robert F. Kennedy, David died of a drug overdose in 1984, at the age of 28.\n",
      "\n",
      "6. Michael LeMoyne Kennedy (1958-1997): The 13th child of Robert F. Kennedy, Michael died in a skiing accident in Aspen, Colorado, on December 31, 1997, at the age of 39.\n",
      "\n",
      "7. John F. Kennedy Jr. (1960-1999): The son of John F. Kennedy and Jacqueline Kennedy Onassis, John Jr. died in a plane crash off the coast of Massachusetts on July 16, 1999, at the age of 38.\n",
      "\n",
      "8. Kara Kennedy (1960-2011): The daughter of Edward M. \"Ted\" Kennedy and Joan Bennett Kennedy, Kara died of a heart attack in 2011, at the age of 51.\n",
      "\n",
      "These tragic events have indeed cast a long shadow over the Kennedy family, earning them a reputation as a \"cursed\" family.\n"
     ]
    }
   ],
   "source": [
    "print(llamaResponse.content)"
   ]
  },
  {
   "cell_type": "code",
   "execution_count": 39,
   "id": "95331453",
   "metadata": {},
   "outputs": [],
   "source": [
    "deepResponse = deepChatModel.invoke(messages)"
   ]
  },
  {
   "cell_type": "code",
   "execution_count": 40,
   "id": "9f9a3b20",
   "metadata": {},
   "outputs": [
    {
     "name": "stdout",
     "output_type": "stream",
     "text": [
      "<think>\n",
      "Okay, so I need to figure out how many members of the Kennedy family died tragically. I'm not super familiar with all the details, but I know the Kennedys are a prominent American family with a history of public service and, unfortunately, several tragic events. Let me try to break this down step by step.\n",
      "\n",
      "First, I remember that John F. Kennedy, the 35th President of the United States, was assassinated. That's a big one. He was shot in Dallas, Texas, in 1963. Then, a few years later, his brother Robert F. Kennedy, who was also a politician and running for president, was assassinated in 1968. So that's two tragic deaths right there.\n",
      "\n",
      "I also recall that John F. Kennedy Jr., the son of JFK, died in a plane crash in 1999. He was a young man, a pilot, and was flying with his wife and sister-in-law when the accident happened. That adds another tragic death.\n",
      "\n",
      "Then there's Ted Kennedy, the youngest brother. He died of natural causes, a brain tumor, in 2009. While that's sad, it might not be considered tragic in the same sense as assassinations or accidents, but I'm not sure. Maybe some people count it as tragic because of his age or the impact on the family.\n",
      "\n",
      "I think there might be more, though. I've heard about the Kennedys having several children and siblings, and sometimes they've had early or unexpected deaths. Let me try to remember. There was something about a sister, maybe Rosemary Kennedy? She was the older sister of JFK. She had intellectual disabilities and underwent a lobotomy, which didn't go well. She died in 2005 at the age of 86. That's not exactly a tragic death in the sense of an accident or assassination, but her life was marked by tragedy because of the lobotomy and her treatment.\n",
      "\n",
      "Also, there's Kathleen Kennedy, who was another sister. She died in a plane crash in 1948. So that's another tragic death. She was serving in the Red Cross during WWII and then died in that accident.\n",
      "\n",
      "I think there's also the story of Joseph P. Kennedy Jr., the eldest son, who died in World War II. He was a pilot and was killed in action in 1944 during a mission. That's definitely a tragic death, especially since he was the one who was supposed to carry on the political legacy before JFK.\n",
      "\n",
      "So, adding that up, we have:\n",
      "\n",
      "1. John F. Kennedy (assassination)\n",
      "2. Robert F. Kennedy (assassination)\n",
      "3. John F. Kennedy Jr. (plane crash)\n",
      "4. Ted Kennedy (brain cancer, maybe not tragic in the same way)\n",
      "5. Joseph P. Kennedy Jr. (killed in WWII)\n",
      "6. Kathleen Kennedy (plane crash)\n",
      "7. Rosemary Kennedy (lobotomy and long-term health issues, died at 86)\n",
      "\n",
      "Wait, but the question is about how many died tragically. So, I think the main ones are the assassinations, the plane crashes, and the wartime death. Rosemary's death at 86, while sad, isn't as sudden or violent, so maybe she's not counted in the same way.\n",
      "\n",
      "So, that would be five: JFK, RFK, JFK Jr., Kathleen, and Joseph Jr. But I'm not entirely sure if Kathleen and Joseph are included in the immediate family or if the question is focusing on the more well-known members. Also, Ted Kennedy's death was from illness, which is tragic but perhaps not in the same category as the others.\n",
      "\n",
      "I should also consider other possible family members. There's Patrick Kennedy, who was JFK's son, but he died as an infant from complications related to premature birth. That's tragic, but I'm not sure if it's included in the count.\n",
      "\n",
      "So, putting it all together, I think the most commonly cited tragic deaths are John F. Kennedy, Robert F. Kennedy, John F. Kennedy Jr., Joseph P. Kennedy Jr., and Kathleen Kennedy. That makes five. Some sources might include Ted Kennedy, Patrick Kennedy, and Rosemary Kennedy, which would bring the total higher, but I think the main five are the ones usually referenced.\n",
      "</think>\n",
      "\n",
      "The Kennedy family has experienced several tragic deaths, primarily involving sudden or violent circumstances. The key tragic deaths include:\n",
      "\n",
      "1. **John F. Kennedy (JFK)**: Assassinated in 1963.\n",
      "2. **Robert F. Kennedy (RFK)**: Assassinated in 1968.\n",
      "3. **John F. Kennedy Jr.**: Died in a plane crash in 1999.\n",
      "4. **Joseph P. Kennedy Jr.**: Killed in action during World War II in 1944.\n",
      "5. **Kathleen Kennedy**: Died in a plane crash in 1948.\n",
      "\n",
      "These five deaths are widely recognized as tragic due to their sudden and violent nature. Other family members, such as Ted Kennedy, Rosemary Kennedy, and Patrick Kennedy, experienced tragic circumstances but their deaths were either from natural causes or less sudden events. Thus, the primary count of tragic deaths is five.\n"
     ]
    }
   ],
   "source": [
    "print(deepResponse.content)"
   ]
  },
  {
   "cell_type": "code",
   "execution_count": null,
   "id": "74c217d9",
   "metadata": {},
   "outputs": [],
   "source": []
  }
 ],
 "metadata": {
  "kernelspec": {
   "display_name": "llmapp_latest",
   "language": "python",
   "name": "python3"
  },
  "language_info": {
   "codemirror_mode": {
    "name": "ipython",
    "version": 3
   },
   "file_extension": ".py",
   "mimetype": "text/x-python",
   "name": "python",
   "nbconvert_exporter": "python",
   "pygments_lexer": "ipython3",
   "version": "3.13.2"
  }
 },
 "nbformat": 4,
 "nbformat_minor": 5
}
