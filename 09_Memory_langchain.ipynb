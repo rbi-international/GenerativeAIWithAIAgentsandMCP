{
 "cells": [
  {
   "cell_type": "code",
   "execution_count": 1,
   "id": "83a1c266",
   "metadata": {},
   "outputs": [],
   "source": [
    "import os\n",
    "from dotenv import load_dotenv, find_dotenv\n",
    "_ = load_dotenv(find_dotenv())\n",
    "openai_api_key = os.environ[\"OPENAI_API_KEY\"]"
   ]
  },
  {
   "cell_type": "code",
   "execution_count": 2,
   "id": "f43d5b0e",
   "metadata": {},
   "outputs": [],
   "source": [
    "from langchain_openai import ChatOpenAI\n",
    "\n",
    "llm = ChatOpenAI(model = \"gpt-4.1-nano-2025-04-14\")"
   ]
  },
  {
   "cell_type": "markdown",
   "id": "048a316e",
   "metadata": {},
   "source": [
    "## Buffer Memory\n",
    "* ConversationBufferMemory keeps a list of chat messages in a buffer and passes those into the prompt template."
   ]
  },
  {
   "cell_type": "code",
   "execution_count": null,
   "id": "e727bb38",
   "metadata": {},
   "outputs": [
    {
     "name": "stderr",
     "output_type": "stream",
     "text": [
      "C:\\Users\\rbhar\\AppData\\Local\\Temp\\ipykernel_39248\\2025338751.py:22: LangChainDeprecationWarning: Please see the migration guide at: https://python.langchain.com/docs/versions/migrating_memory/\n",
      "  memory = ConversationBufferMemory(memory_key=\"chat_history\", return_messages=True)\n",
      "C:\\Users\\rbhar\\AppData\\Local\\Temp\\ipykernel_39248\\2025338751.py:24: LangChainDeprecationWarning: The class `LLMChain` was deprecated in LangChain 0.1.17 and will be removed in 1.0. Use :meth:`~RunnableSequence, e.g., `prompt | llm`` instead.\n",
      "  conversation = LLMChain(\n"
     ]
    }
   ],
   "source": [
    "## deprecated approach\n",
    "from langchain_core.prompts import (\n",
    "    ChatPromptTemplate,\n",
    "    MessagesPlaceholder,\n",
    "    SystemMessagePromptTemplate,\n",
    "    HumanMessagePromptTemplate,\n",
    ")\n",
    "from langchain.chains import LLMChain\n",
    "from langchain.memory import ConversationBufferMemory\n",
    "\n",
    "\n",
    "prompt = ChatPromptTemplate(\n",
    "    messages=[\n",
    "        SystemMessagePromptTemplate.from_template(\n",
    "            \"You are a nice chatbot having a conversation with a human.\"\n",
    "        ),\n",
    "        # The `variable_name` here is what must align with memory\n",
    "        MessagesPlaceholder(variable_name=\"chat_history\"),\n",
    "        HumanMessagePromptTemplate.from_template(\"{question}\")\n",
    "    ]\n",
    ")\n",
    "\n",
    "memory = ConversationBufferMemory(memory_key=\"chat_history\", return_messages=True)\n",
    "\n",
    "conversation = LLMChain(\n",
    "    llm=llm,\n",
    "    prompt=prompt,\n",
    "    verbose=True,\n",
    "    memory=memory\n",
    ")\n"
   ]
  },
  {
   "cell_type": "code",
   "execution_count": 4,
   "id": "58ade219",
   "metadata": {},
   "outputs": [
    {
     "name": "stderr",
     "output_type": "stream",
     "text": [
      "C:\\Users\\rbhar\\AppData\\Local\\Temp\\ipykernel_39248\\2596321432.py:1: LangChainDeprecationWarning: The method `Chain.__call__` was deprecated in langchain 0.1.0 and will be removed in 1.0. Use :meth:`~invoke` instead.\n",
      "  conversation({\"question\": \"hi\"})\n"
     ]
    },
    {
     "name": "stdout",
     "output_type": "stream",
     "text": [
      "\n",
      "\n",
      "\u001b[1m> Entering new LLMChain chain...\u001b[0m\n",
      "Prompt after formatting:\n",
      "\u001b[32;1m\u001b[1;3mSystem: You are a nice chatbot having a conversation with a human.\n",
      "Human: hi\u001b[0m\n",
      "\n",
      "\u001b[1m> Finished chain.\u001b[0m\n"
     ]
    },
    {
     "data": {
      "text/plain": [
       "{'question': 'hi',\n",
       " 'chat_history': [HumanMessage(content='hi', additional_kwargs={}, response_metadata={}),\n",
       "  AIMessage(content='Hello! How are you doing today?', additional_kwargs={}, response_metadata={})],\n",
       " 'text': 'Hello! How are you doing today?'}"
      ]
     },
     "execution_count": 4,
     "metadata": {},
     "output_type": "execute_result"
    }
   ],
   "source": [
    "conversation({\"question\": \"hi\"})"
   ]
  },
  {
   "cell_type": "code",
   "execution_count": 5,
   "id": "5c68ec63",
   "metadata": {},
   "outputs": [
    {
     "name": "stdout",
     "output_type": "stream",
     "text": [
      "\n",
      "\n",
      "\u001b[1m> Entering new LLMChain chain...\u001b[0m\n",
      "Prompt after formatting:\n",
      "\u001b[32;1m\u001b[1;3mSystem: You are a nice chatbot having a conversation with a human.\n",
      "Human: hi\n",
      "AI: Hello! How are you doing today?\n",
      "Human: My name is Rohit and I have moved 33 times.\u001b[0m\n",
      "\n",
      "\u001b[1m> Finished chain.\u001b[0m\n"
     ]
    },
    {
     "data": {
      "text/plain": [
       "{'question': 'My name is Rohit and I have moved 33 times.',\n",
       " 'chat_history': [HumanMessage(content='hi', additional_kwargs={}, response_metadata={}),\n",
       "  AIMessage(content='Hello! How are you doing today?', additional_kwargs={}, response_metadata={}),\n",
       "  HumanMessage(content='My name is Rohit and I have moved 33 times.', additional_kwargs={}, response_metadata={}),\n",
       "  AIMessage(content=\"Wow, Rohit! That's quite a lot of moves. It must have been an interesting experience adapting to new places each time. Do you enjoy moving around, or is it more of a challenge for you?\", additional_kwargs={}, response_metadata={})],\n",
       " 'text': \"Wow, Rohit! That's quite a lot of moves. It must have been an interesting experience adapting to new places each time. Do you enjoy moving around, or is it more of a challenge for you?\"}"
      ]
     },
     "execution_count": 5,
     "metadata": {},
     "output_type": "execute_result"
    }
   ],
   "source": [
    "conversation({\"question\": \"My name is Rohit and I have moved 33 times.\"})"
   ]
  },
  {
   "cell_type": "code",
   "execution_count": 6,
   "id": "f8b115b5",
   "metadata": {},
   "outputs": [
    {
     "name": "stdout",
     "output_type": "stream",
     "text": [
      "\n",
      "\n",
      "\u001b[1m> Entering new LLMChain chain...\u001b[0m\n",
      "Prompt after formatting:\n",
      "\u001b[32;1m\u001b[1;3mSystem: You are a nice chatbot having a conversation with a human.\n",
      "Human: hi\n",
      "AI: Hello! How are you doing today?\n",
      "Human: My name is Rohit and I have moved 33 times.\n",
      "AI: Wow, Rohit! That's quite a lot of moves. It must have been an interesting experience adapting to new places each time. Do you enjoy moving around, or is it more of a challenge for you?\n",
      "Human: If my average moving distance was 100 miles, how many miles took all my moves?\u001b[0m\n",
      "\n",
      "\u001b[1m> Finished chain.\u001b[0m\n"
     ]
    },
    {
     "data": {
      "text/plain": [
       "{'question': 'If my average moving distance was 100 miles, how many miles took all my moves?',\n",
       " 'chat_history': [HumanMessage(content='hi', additional_kwargs={}, response_metadata={}),\n",
       "  AIMessage(content='Hello! How are you doing today?', additional_kwargs={}, response_metadata={}),\n",
       "  HumanMessage(content='My name is Rohit and I have moved 33 times.', additional_kwargs={}, response_metadata={}),\n",
       "  AIMessage(content=\"Wow, Rohit! That's quite a lot of moves. It must have been an interesting experience adapting to new places each time. Do you enjoy moving around, or is it more of a challenge for you?\", additional_kwargs={}, response_metadata={}),\n",
       "  HumanMessage(content='If my average moving distance was 100 miles, how many miles took all my moves?', additional_kwargs={}, response_metadata={}),\n",
       "  AIMessage(content=\"Let's do the math! If you moved 33 times and the average distance for each move was 100 miles, then the total miles you traveled would be:\\n\\n33 moves × 100 miles per move = 3,300 miles.\\n\\nSo, you've covered approximately 3,300 miles in total. That's quite a journey!\", additional_kwargs={}, response_metadata={})],\n",
       " 'text': \"Let's do the math! If you moved 33 times and the average distance for each move was 100 miles, then the total miles you traveled would be:\\n\\n33 moves × 100 miles per move = 3,300 miles.\\n\\nSo, you've covered approximately 3,300 miles in total. That's quite a journey!\"}"
      ]
     },
     "execution_count": 6,
     "metadata": {},
     "output_type": "execute_result"
    }
   ],
   "source": [
    "conversation({\"question\": \"If my average moving distance was 100 miles, how many miles took all my moves?\"})"
   ]
  },
  {
   "cell_type": "code",
   "execution_count": 7,
   "id": "b2da68e3",
   "metadata": {},
   "outputs": [
    {
     "name": "stdout",
     "output_type": "stream",
     "text": [
      "\n",
      "\n",
      "\u001b[1m> Entering new LLMChain chain...\u001b[0m\n",
      "Prompt after formatting:\n",
      "\u001b[32;1m\u001b[1;3mSystem: You are a nice chatbot having a conversation with a human.\n",
      "Human: hi\n",
      "AI: Hello! How are you doing today?\n",
      "Human: My name is Rohit and I have moved 33 times.\n",
      "AI: Wow, Rohit! That's quite a lot of moves. It must have been an interesting experience adapting to new places each time. Do you enjoy moving around, or is it more of a challenge for you?\n",
      "Human: If my average moving distance was 100 miles, how many miles took all my moves?\n",
      "AI: Let's do the math! If you moved 33 times and the average distance for each move was 100 miles, then the total miles you traveled would be:\n",
      "\n",
      "33 moves × 100 miles per move = 3,300 miles.\n",
      "\n",
      "So, you've covered approximately 3,300 miles in total. That's quite a journey!\n",
      "Human: Do you remember my name?\u001b[0m\n",
      "\n",
      "\u001b[1m> Finished chain.\u001b[0m\n"
     ]
    },
    {
     "data": {
      "text/plain": [
       "{'question': 'Do you remember my name?',\n",
       " 'chat_history': [HumanMessage(content='hi', additional_kwargs={}, response_metadata={}),\n",
       "  AIMessage(content='Hello! How are you doing today?', additional_kwargs={}, response_metadata={}),\n",
       "  HumanMessage(content='My name is Rohit and I have moved 33 times.', additional_kwargs={}, response_metadata={}),\n",
       "  AIMessage(content=\"Wow, Rohit! That's quite a lot of moves. It must have been an interesting experience adapting to new places each time. Do you enjoy moving around, or is it more of a challenge for you?\", additional_kwargs={}, response_metadata={}),\n",
       "  HumanMessage(content='If my average moving distance was 100 miles, how many miles took all my moves?', additional_kwargs={}, response_metadata={}),\n",
       "  AIMessage(content=\"Let's do the math! If you moved 33 times and the average distance for each move was 100 miles, then the total miles you traveled would be:\\n\\n33 moves × 100 miles per move = 3,300 miles.\\n\\nSo, you've covered approximately 3,300 miles in total. That's quite a journey!\", additional_kwargs={}, response_metadata={}),\n",
       "  HumanMessage(content='Do you remember my name?', additional_kwargs={}, response_metadata={}),\n",
       "  AIMessage(content='Yes, I remember—your name is Rohit. Nice to chat with you again!', additional_kwargs={}, response_metadata={})],\n",
       " 'text': 'Yes, I remember—your name is Rohit. Nice to chat with you again!'}"
      ]
     },
     "execution_count": 7,
     "metadata": {},
     "output_type": "execute_result"
    }
   ],
   "source": [
    "conversation({\"question\": \"Do you remember my name?\"})"
   ]
  },
  {
   "cell_type": "code",
   "execution_count": 8,
   "id": "d4e80c0f",
   "metadata": {},
   "outputs": [
    {
     "name": "stdout",
     "output_type": "stream",
     "text": [
      "[HumanMessage(content='hi', additional_kwargs={}, response_metadata={}), AIMessage(content='Hello! How are you doing today?', additional_kwargs={}, response_metadata={}), HumanMessage(content='My name is Rohit and I have moved 33 times.', additional_kwargs={}, response_metadata={}), AIMessage(content=\"Wow, Rohit! That's quite a lot of moves. It must have been an interesting experience adapting to new places each time. Do you enjoy moving around, or is it more of a challenge for you?\", additional_kwargs={}, response_metadata={}), HumanMessage(content='If my average moving distance was 100 miles, how many miles took all my moves?', additional_kwargs={}, response_metadata={}), AIMessage(content=\"Let's do the math! If you moved 33 times and the average distance for each move was 100 miles, then the total miles you traveled would be:\\n\\n33 moves × 100 miles per move = 3,300 miles.\\n\\nSo, you've covered approximately 3,300 miles in total. That's quite a journey!\", additional_kwargs={}, response_metadata={}), HumanMessage(content='Do you remember my name?', additional_kwargs={}, response_metadata={}), AIMessage(content='Yes, I remember—your name is Rohit. Nice to chat with you again!', additional_kwargs={}, response_metadata={})]\n"
     ]
    }
   ],
   "source": [
    "print(memory.buffer)"
   ]
  },
  {
   "cell_type": "markdown",
   "id": "6e8ba47c",
   "metadata": {},
   "source": [
    "## Conversation Buffer Window Memory\n",
    "Similar to the previous one, but **you can limit the number of conversational exchanges stored in memory**. For example, you can set it so it only remembers the last 3 questions and answers of the conversation."
   ]
  },
  {
   "cell_type": "code",
   "execution_count": 9,
   "id": "2454b3a3",
   "metadata": {},
   "outputs": [],
   "source": [
    "from langchain.memory import ConversationBufferWindowMemory\n",
    "from langchain.chains import ConversationChain"
   ]
  },
  {
   "cell_type": "code",
   "execution_count": 10,
   "id": "26dab970",
   "metadata": {},
   "outputs": [
    {
     "name": "stderr",
     "output_type": "stream",
     "text": [
      "C:\\Users\\rbhar\\AppData\\Local\\Temp\\ipykernel_39248\\3645135692.py:1: LangChainDeprecationWarning: Please see the migration guide at: https://python.langchain.com/docs/versions/migrating_memory/\n",
      "  window_memory = ConversationBufferWindowMemory(k=3)\n"
     ]
    }
   ],
   "source": [
    "window_memory = ConversationBufferWindowMemory(k=3)"
   ]
  },
  {
   "cell_type": "code",
   "execution_count": 11,
   "id": "13ef1aad",
   "metadata": {},
   "outputs": [
    {
     "name": "stderr",
     "output_type": "stream",
     "text": [
      "C:\\Users\\rbhar\\AppData\\Local\\Temp\\ipykernel_39248\\2450156885.py:1: LangChainDeprecationWarning: The class `ConversationChain` was deprecated in LangChain 0.2.7 and will be removed in 1.0. Use :meth:`~RunnableWithMessageHistory: https://python.langchain.com/v0.2/api_reference/core/runnables/langchain_core.runnables.history.RunnableWithMessageHistory.html` instead.\n",
      "  conversation_window = ConversationChain(\n"
     ]
    }
   ],
   "source": [
    "conversation_window = ConversationChain(\n",
    "    llm=llm, \n",
    "    memory = window_memory,\n",
    "    verbose=True\n",
    ")"
   ]
  },
  {
   "cell_type": "code",
   "execution_count": 12,
   "id": "632bfcb0",
   "metadata": {},
   "outputs": [
    {
     "name": "stdout",
     "output_type": "stream",
     "text": [
      "\n",
      "\n",
      "\u001b[1m> Entering new ConversationChain chain...\u001b[0m\n",
      "Prompt after formatting:\n",
      "\u001b[32;1m\u001b[1;3mThe following is a friendly conversation between a human and an AI. The AI is talkative and provides lots of specific details from its context. If the AI does not know the answer to a question, it truthfully says it does not know.\n",
      "\n",
      "Current conversation:\n",
      "\n",
      "Human: Hi, my name is Rohit\n",
      "AI:\u001b[0m\n",
      "\n",
      "\u001b[1m> Finished chain.\u001b[0m\n"
     ]
    },
    {
     "data": {
      "text/plain": [
       "{'input': 'Hi, my name is Rohit',\n",
       " 'history': '',\n",
       " 'response': \"Hello Rohit! It's great to meet you. How can I assist you today?\"}"
      ]
     },
     "execution_count": 12,
     "metadata": {},
     "output_type": "execute_result"
    }
   ],
   "source": [
    "conversation_window({\"input\": \"Hi, my name is Rohit\"})"
   ]
  },
  {
   "cell_type": "code",
   "execution_count": 13,
   "id": "a19b0023",
   "metadata": {},
   "outputs": [
    {
     "name": "stdout",
     "output_type": "stream",
     "text": [
      "\n",
      "\n",
      "\u001b[1m> Entering new ConversationChain chain...\u001b[0m\n",
      "Prompt after formatting:\n",
      "\u001b[32;1m\u001b[1;3mThe following is a friendly conversation between a human and an AI. The AI is talkative and provides lots of specific details from its context. If the AI does not know the answer to a question, it truthfully says it does not know.\n",
      "\n",
      "Current conversation:\n",
      "Human: Hi, my name is Rohit\n",
      "AI: Hello Rohit! It's great to meet you. How can I assist you today?\n",
      "Human: My favorite color is blue\n",
      "AI:\u001b[0m\n",
      "\n",
      "\u001b[1m> Finished chain.\u001b[0m\n"
     ]
    },
    {
     "data": {
      "text/plain": [
       "{'input': 'My favorite color is blue',\n",
       " 'history': \"Human: Hi, my name is Rohit\\nAI: Hello Rohit! It's great to meet you. How can I assist you today?\",\n",
       " 'response': \"That's wonderful, Rohit! Blue is such a calming and versatile color. Did you know that blue is often associated with tranquility, trust, and depth? People love it in everything from clothing to interior design. Do you have a favorite shade of blue, like navy, sky blue, or teal?\"}"
      ]
     },
     "execution_count": 13,
     "metadata": {},
     "output_type": "execute_result"
    }
   ],
   "source": [
    "conversation_window({\"input\": \"My favorite color is blue\"})"
   ]
  },
  {
   "cell_type": "code",
   "execution_count": 14,
   "id": "efbb94b6",
   "metadata": {},
   "outputs": [
    {
     "name": "stdout",
     "output_type": "stream",
     "text": [
      "\n",
      "\n",
      "\u001b[1m> Entering new ConversationChain chain...\u001b[0m\n",
      "Prompt after formatting:\n",
      "\u001b[32;1m\u001b[1;3mThe following is a friendly conversation between a human and an AI. The AI is talkative and provides lots of specific details from its context. If the AI does not know the answer to a question, it truthfully says it does not know.\n",
      "\n",
      "Current conversation:\n",
      "Human: Hi, my name is Rohit\n",
      "AI: Hello Rohit! It's great to meet you. How can I assist you today?\n",
      "Human: My favorite color is blue\n",
      "AI: That's wonderful, Rohit! Blue is such a calming and versatile color. Did you know that blue is often associated with tranquility, trust, and depth? People love it in everything from clothing to interior design. Do you have a favorite shade of blue, like navy, sky blue, or teal?\n",
      "Human: My favorite animals are dogs\n",
      "AI:\u001b[0m\n",
      "\n",
      "\u001b[1m> Finished chain.\u001b[0m\n"
     ]
    },
    {
     "data": {
      "text/plain": [
       "{'input': 'My favorite animals are dogs',\n",
       " 'history': \"Human: Hi, my name is Rohit\\nAI: Hello Rohit! It's great to meet you. How can I assist you today?\\nHuman: My favorite color is blue\\nAI: That's wonderful, Rohit! Blue is such a calming and versatile color. Did you know that blue is often associated with tranquility, trust, and depth? People love it in everything from clothing to interior design. Do you have a favorite shade of blue, like navy, sky blue, or teal?\",\n",
       " 'response': \"Dogs are fantastic animals! They've been companions to humans for thousands of years, dating back to ancient civilizations like the Egyptians and Romans. There are hundreds of breeds, each with unique traits—ranging from the energetic Labrador Retriever to the small but clever Dachshund. Dogs are known for their loyalty, intelligence, and their ability to form strong bonds with people. Do you have a favorite dog breed or any particular kind of dog that you love the most?\"}"
      ]
     },
     "execution_count": 14,
     "metadata": {},
     "output_type": "execute_result"
    }
   ],
   "source": [
    "conversation_window({\"input\": \"My favorite animals are dogs\"})"
   ]
  },
  {
   "cell_type": "code",
   "execution_count": 15,
   "id": "2cf941e2",
   "metadata": {},
   "outputs": [
    {
     "name": "stdout",
     "output_type": "stream",
     "text": [
      "\n",
      "\n",
      "\u001b[1m> Entering new ConversationChain chain...\u001b[0m\n",
      "Prompt after formatting:\n",
      "\u001b[32;1m\u001b[1;3mThe following is a friendly conversation between a human and an AI. The AI is talkative and provides lots of specific details from its context. If the AI does not know the answer to a question, it truthfully says it does not know.\n",
      "\n",
      "Current conversation:\n",
      "Human: Hi, my name is Rohit\n",
      "AI: Hello Rohit! It's great to meet you. How can I assist you today?\n",
      "Human: My favorite color is blue\n",
      "AI: That's wonderful, Rohit! Blue is such a calming and versatile color. Did you know that blue is often associated with tranquility, trust, and depth? People love it in everything from clothing to interior design. Do you have a favorite shade of blue, like navy, sky blue, or teal?\n",
      "Human: My favorite animals are dogs\n",
      "AI: Dogs are fantastic animals! They've been companions to humans for thousands of years, dating back to ancient civilizations like the Egyptians and Romans. There are hundreds of breeds, each with unique traits—ranging from the energetic Labrador Retriever to the small but clever Dachshund. Dogs are known for their loyalty, intelligence, and their ability to form strong bonds with people. Do you have a favorite dog breed or any particular kind of dog that you love the most?\n",
      "Human: I like to drive a vespa scooter in the city\n",
      "AI:\u001b[0m\n",
      "\n",
      "\u001b[1m> Finished chain.\u001b[0m\n"
     ]
    },
    {
     "data": {
      "text/plain": [
       "{'input': 'I like to drive a vespa scooter in the city',\n",
       " 'history': \"Human: Hi, my name is Rohit\\nAI: Hello Rohit! It's great to meet you. How can I assist you today?\\nHuman: My favorite color is blue\\nAI: That's wonderful, Rohit! Blue is such a calming and versatile color. Did you know that blue is often associated with tranquility, trust, and depth? People love it in everything from clothing to interior design. Do you have a favorite shade of blue, like navy, sky blue, or teal?\\nHuman: My favorite animals are dogs\\nAI: Dogs are fantastic animals! They've been companions to humans for thousands of years, dating back to ancient civilizations like the Egyptians and Romans. There are hundreds of breeds, each with unique traits—ranging from the energetic Labrador Retriever to the small but clever Dachshund. Dogs are known for their loyalty, intelligence, and their ability to form strong bonds with people. Do you have a favorite dog breed or any particular kind of dog that you love the most?\",\n",
       " 'response': 'That sounds like a fantastic way to get around! Vespa scooters are iconic for their stylish design and maneuverability, especially in bustling city environments. Did you know that Vespas first became popular in the post-World War II era, particularly in Italy? The Vespa 98, introduced in 1946, was among the first models, and their compact size makes them perfect for navigating narrow city streets and avoiding traffic jams. Riding a Vespa also offers an open-air experience, which makes city commutes more enjoyable. Do you have a favorite route or a particular city where you love to ride your Vespa?'}"
      ]
     },
     "execution_count": 15,
     "metadata": {},
     "output_type": "execute_result"
    }
   ],
   "source": [
    "conversation_window({\"input\": \"I like to drive a vespa scooter in the city\"})"
   ]
  },
  {
   "cell_type": "code",
   "execution_count": 16,
   "id": "cc0a9d66",
   "metadata": {},
   "outputs": [
    {
     "name": "stdout",
     "output_type": "stream",
     "text": [
      "\n",
      "\n",
      "\u001b[1m> Entering new ConversationChain chain...\u001b[0m\n",
      "Prompt after formatting:\n",
      "\u001b[32;1m\u001b[1;3mThe following is a friendly conversation between a human and an AI. The AI is talkative and provides lots of specific details from its context. If the AI does not know the answer to a question, it truthfully says it does not know.\n",
      "\n",
      "Current conversation:\n",
      "Human: My favorite color is blue\n",
      "AI: That's wonderful, Rohit! Blue is such a calming and versatile color. Did you know that blue is often associated with tranquility, trust, and depth? People love it in everything from clothing to interior design. Do you have a favorite shade of blue, like navy, sky blue, or teal?\n",
      "Human: My favorite animals are dogs\n",
      "AI: Dogs are fantastic animals! They've been companions to humans for thousands of years, dating back to ancient civilizations like the Egyptians and Romans. There are hundreds of breeds, each with unique traits—ranging from the energetic Labrador Retriever to the small but clever Dachshund. Dogs are known for their loyalty, intelligence, and their ability to form strong bonds with people. Do you have a favorite dog breed or any particular kind of dog that you love the most?\n",
      "Human: I like to drive a vespa scooter in the city\n",
      "AI: That sounds like a fantastic way to get around! Vespa scooters are iconic for their stylish design and maneuverability, especially in bustling city environments. Did you know that Vespas first became popular in the post-World War II era, particularly in Italy? The Vespa 98, introduced in 1946, was among the first models, and their compact size makes them perfect for navigating narrow city streets and avoiding traffic jams. Riding a Vespa also offers an open-air experience, which makes city commutes more enjoyable. Do you have a favorite route or a particular city where you love to ride your Vespa?\n",
      "Human: My favorite city is San Francisco\n",
      "AI:\u001b[0m\n",
      "\n",
      "\u001b[1m> Finished chain.\u001b[0m\n"
     ]
    },
    {
     "data": {
      "text/plain": [
       "{'input': 'My favorite city is San Francisco',\n",
       " 'history': \"Human: My favorite color is blue\\nAI: That's wonderful, Rohit! Blue is such a calming and versatile color. Did you know that blue is often associated with tranquility, trust, and depth? People love it in everything from clothing to interior design. Do you have a favorite shade of blue, like navy, sky blue, or teal?\\nHuman: My favorite animals are dogs\\nAI: Dogs are fantastic animals! They've been companions to humans for thousands of years, dating back to ancient civilizations like the Egyptians and Romans. There are hundreds of breeds, each with unique traits—ranging from the energetic Labrador Retriever to the small but clever Dachshund. Dogs are known for their loyalty, intelligence, and their ability to form strong bonds with people. Do you have a favorite dog breed or any particular kind of dog that you love the most?\\nHuman: I like to drive a vespa scooter in the city\\nAI: That sounds like a fantastic way to get around! Vespa scooters are iconic for their stylish design and maneuverability, especially in bustling city environments. Did you know that Vespas first became popular in the post-World War II era, particularly in Italy? The Vespa 98, introduced in 1946, was among the first models, and their compact size makes them perfect for navigating narrow city streets and avoiding traffic jams. Riding a Vespa also offers an open-air experience, which makes city commutes more enjoyable. Do you have a favorite route or a particular city where you love to ride your Vespa?\",\n",
       " 'response': \"San Francisco is such a vibrant and scenic city, perfect for exploring on a Vespa! With its iconic hills, picturesque views of the bay, and historic neighborhoods like Chinatown and the Mission District, riding through San Francisco must be an exhilarating experience. I imagine cruising along the Embarcadero with the view of the Bay Bridge or winding through Lombard Street, famous for its tight hairpin turns, would be incredible! Plus, the city's microclimates mean you can enjoy a variety of weather in a single ride—sometimes sunny at Pier 39 and foggy in the Haight-Ashbury area. Do you have a favorite spot or a memorable ride you've had there?\"}"
      ]
     },
     "execution_count": 16,
     "metadata": {},
     "output_type": "execute_result"
    }
   ],
   "source": [
    "conversation_window({\"input\": \"My favorite city is San Francisco\"})"
   ]
  },
  {
   "cell_type": "code",
   "execution_count": 17,
   "id": "9dffb50e",
   "metadata": {},
   "outputs": [
    {
     "name": "stdout",
     "output_type": "stream",
     "text": [
      "\n",
      "\n",
      "\u001b[1m> Entering new ConversationChain chain...\u001b[0m\n",
      "Prompt after formatting:\n",
      "\u001b[32;1m\u001b[1;3mThe following is a friendly conversation between a human and an AI. The AI is talkative and provides lots of specific details from its context. If the AI does not know the answer to a question, it truthfully says it does not know.\n",
      "\n",
      "Current conversation:\n",
      "Human: My favorite animals are dogs\n",
      "AI: Dogs are fantastic animals! They've been companions to humans for thousands of years, dating back to ancient civilizations like the Egyptians and Romans. There are hundreds of breeds, each with unique traits—ranging from the energetic Labrador Retriever to the small but clever Dachshund. Dogs are known for their loyalty, intelligence, and their ability to form strong bonds with people. Do you have a favorite dog breed or any particular kind of dog that you love the most?\n",
      "Human: I like to drive a vespa scooter in the city\n",
      "AI: That sounds like a fantastic way to get around! Vespa scooters are iconic for their stylish design and maneuverability, especially in bustling city environments. Did you know that Vespas first became popular in the post-World War II era, particularly in Italy? The Vespa 98, introduced in 1946, was among the first models, and their compact size makes them perfect for navigating narrow city streets and avoiding traffic jams. Riding a Vespa also offers an open-air experience, which makes city commutes more enjoyable. Do you have a favorite route or a particular city where you love to ride your Vespa?\n",
      "Human: My favorite city is San Francisco\n",
      "AI: San Francisco is such a vibrant and scenic city, perfect for exploring on a Vespa! With its iconic hills, picturesque views of the bay, and historic neighborhoods like Chinatown and the Mission District, riding through San Francisco must be an exhilarating experience. I imagine cruising along the Embarcadero with the view of the Bay Bridge or winding through Lombard Street, famous for its tight hairpin turns, would be incredible! Plus, the city's microclimates mean you can enjoy a variety of weather in a single ride—sometimes sunny at Pier 39 and foggy in the Haight-Ashbury area. Do you have a favorite spot or a memorable ride you've had there?\n",
      "Human: What is my favorite color?\n",
      "AI:\u001b[0m\n",
      "\n",
      "\u001b[1m> Finished chain.\u001b[0m\n"
     ]
    },
    {
     "data": {
      "text/plain": [
       "{'input': 'What is my favorite color?',\n",
       " 'history': \"Human: My favorite animals are dogs\\nAI: Dogs are fantastic animals! They've been companions to humans for thousands of years, dating back to ancient civilizations like the Egyptians and Romans. There are hundreds of breeds, each with unique traits—ranging from the energetic Labrador Retriever to the small but clever Dachshund. Dogs are known for their loyalty, intelligence, and their ability to form strong bonds with people. Do you have a favorite dog breed or any particular kind of dog that you love the most?\\nHuman: I like to drive a vespa scooter in the city\\nAI: That sounds like a fantastic way to get around! Vespa scooters are iconic for their stylish design and maneuverability, especially in bustling city environments. Did you know that Vespas first became popular in the post-World War II era, particularly in Italy? The Vespa 98, introduced in 1946, was among the first models, and their compact size makes them perfect for navigating narrow city streets and avoiding traffic jams. Riding a Vespa also offers an open-air experience, which makes city commutes more enjoyable. Do you have a favorite route or a particular city where you love to ride your Vespa?\\nHuman: My favorite city is San Francisco\\nAI: San Francisco is such a vibrant and scenic city, perfect for exploring on a Vespa! With its iconic hills, picturesque views of the bay, and historic neighborhoods like Chinatown and the Mission District, riding through San Francisco must be an exhilarating experience. I imagine cruising along the Embarcadero with the view of the Bay Bridge or winding through Lombard Street, famous for its tight hairpin turns, would be incredible! Plus, the city's microclimates mean you can enjoy a variety of weather in a single ride—sometimes sunny at Pier 39 and foggy in the Haight-Ashbury area. Do you have a favorite spot or a memorable ride you've had there?\",\n",
       " 'response': \"I'm sorry, but I don't have information about your favorite color. If you'd like, you can tell me what it is!\"}"
      ]
     },
     "execution_count": 17,
     "metadata": {},
     "output_type": "execute_result"
    }
   ],
   "source": [
    "conversation_window({\"input\": \"What is my favorite color?\"})"
   ]
  },
  {
   "cell_type": "code",
   "execution_count": 18,
   "id": "959cd665",
   "metadata": {},
   "outputs": [
    {
     "name": "stdout",
     "output_type": "stream",
     "text": [
      "\n",
      "\n",
      "\u001b[1m> Entering new ConversationChain chain...\u001b[0m\n",
      "Prompt after formatting:\n",
      "\u001b[32;1m\u001b[1;3mThe following is a friendly conversation between a human and an AI. The AI is talkative and provides lots of specific details from its context. If the AI does not know the answer to a question, it truthfully says it does not know.\n",
      "\n",
      "Current conversation:\n",
      "Human: I like to drive a vespa scooter in the city\n",
      "AI: That sounds like a fantastic way to get around! Vespa scooters are iconic for their stylish design and maneuverability, especially in bustling city environments. Did you know that Vespas first became popular in the post-World War II era, particularly in Italy? The Vespa 98, introduced in 1946, was among the first models, and their compact size makes them perfect for navigating narrow city streets and avoiding traffic jams. Riding a Vespa also offers an open-air experience, which makes city commutes more enjoyable. Do you have a favorite route or a particular city where you love to ride your Vespa?\n",
      "Human: My favorite city is San Francisco\n",
      "AI: San Francisco is such a vibrant and scenic city, perfect for exploring on a Vespa! With its iconic hills, picturesque views of the bay, and historic neighborhoods like Chinatown and the Mission District, riding through San Francisco must be an exhilarating experience. I imagine cruising along the Embarcadero with the view of the Bay Bridge or winding through Lombard Street, famous for its tight hairpin turns, would be incredible! Plus, the city's microclimates mean you can enjoy a variety of weather in a single ride—sometimes sunny at Pier 39 and foggy in the Haight-Ashbury area. Do you have a favorite spot or a memorable ride you've had there?\n",
      "Human: What is my favorite color?\n",
      "AI: I'm sorry, but I don't have information about your favorite color. If you'd like, you can tell me what it is!\n",
      "Human: What is my favorite city?\n",
      "AI:\u001b[0m\n",
      "\n",
      "\u001b[1m> Finished chain.\u001b[0m\n"
     ]
    },
    {
     "data": {
      "text/plain": [
       "{'input': 'What is my favorite city?',\n",
       " 'history': \"Human: I like to drive a vespa scooter in the city\\nAI: That sounds like a fantastic way to get around! Vespa scooters are iconic for their stylish design and maneuverability, especially in bustling city environments. Did you know that Vespas first became popular in the post-World War II era, particularly in Italy? The Vespa 98, introduced in 1946, was among the first models, and their compact size makes them perfect for navigating narrow city streets and avoiding traffic jams. Riding a Vespa also offers an open-air experience, which makes city commutes more enjoyable. Do you have a favorite route or a particular city where you love to ride your Vespa?\\nHuman: My favorite city is San Francisco\\nAI: San Francisco is such a vibrant and scenic city, perfect for exploring on a Vespa! With its iconic hills, picturesque views of the bay, and historic neighborhoods like Chinatown and the Mission District, riding through San Francisco must be an exhilarating experience. I imagine cruising along the Embarcadero with the view of the Bay Bridge or winding through Lombard Street, famous for its tight hairpin turns, would be incredible! Plus, the city's microclimates mean you can enjoy a variety of weather in a single ride—sometimes sunny at Pier 39 and foggy in the Haight-Ashbury area. Do you have a favorite spot or a memorable ride you've had there?\\nHuman: What is my favorite color?\\nAI: I'm sorry, but I don't have information about your favorite color. If you'd like, you can tell me what it is!\",\n",
       " 'response': 'You mentioned earlier that your favorite city is San Francisco!'}"
      ]
     },
     "execution_count": 18,
     "metadata": {},
     "output_type": "execute_result"
    }
   ],
   "source": [
    "conversation_window({\"input\": \"What is my favorite city?\"})"
   ]
  },
  {
   "cell_type": "markdown",
   "id": "e98eedc9",
   "metadata": {},
   "source": [
    "# Chat Message History\n",
    "* Save list of chat messages and then fetch them all."
   ]
  },
  {
   "cell_type": "code",
   "execution_count": 19,
   "id": "9ed44851",
   "metadata": {},
   "outputs": [],
   "source": [
    "from langchain_openai import ChatOpenAI\n",
    "\n",
    "llm = ChatOpenAI(model = \"gpt-4.1-nano-2025-04-14\")"
   ]
  },
  {
   "cell_type": "code",
   "execution_count": 20,
   "id": "a3671790",
   "metadata": {},
   "outputs": [],
   "source": [
    "from langchain.memory import ChatMessageHistory\n",
    "\n",
    "history = ChatMessageHistory()\n",
    "\n",
    "history.add_user_message(\"hi!\")\n",
    "\n",
    "history.add_ai_message(\"whats up?\")"
   ]
  },
  {
   "cell_type": "code",
   "execution_count": 21,
   "id": "74f84440",
   "metadata": {},
   "outputs": [
    {
     "data": {
      "text/plain": [
       "[HumanMessage(content='hi!', additional_kwargs={}, response_metadata={}),\n",
       " AIMessage(content='whats up?', additional_kwargs={}, response_metadata={})]"
      ]
     },
     "execution_count": 21,
     "metadata": {},
     "output_type": "execute_result"
    }
   ],
   "source": [
    "history.messages"
   ]
  },
  {
   "cell_type": "code",
   "execution_count": null,
   "id": "fc4d7e15",
   "metadata": {},
   "outputs": [],
   "source": []
  }
 ],
 "metadata": {
  "kernelspec": {
   "display_name": "llmapp_latest",
   "language": "python",
   "name": "python3"
  },
  "language_info": {
   "codemirror_mode": {
    "name": "ipython",
    "version": 3
   },
   "file_extension": ".py",
   "mimetype": "text/x-python",
   "name": "python",
   "nbconvert_exporter": "python",
   "pygments_lexer": "ipython3",
   "version": "3.13.2"
  }
 },
 "nbformat": 4,
 "nbformat_minor": 5
}
